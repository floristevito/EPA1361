{
 "cells": [
  {
   "cell_type": "markdown",
   "metadata": {},
   "source": [
    "# EPA1361 - Model-Based Decision Making\n",
    "# Week 3 - Sensitivity analysis\n",
    "\n",
    "This exercise uses the same predator-prey model we used for the multi-model exercise, focusing on the Python version. As with the other exercise, define a model object for the function below, with the uncertainty ranges provided:\n",
    "\n",
    "|Parameter\t|Range or value\t        |\n",
    "|-----------|--------------:|\n",
    "|prey_birth_rate    \t|0.015 – 0.035\t|\n",
    "|predation_rate|0.0005 – 0.003 \t|\n",
    "|predator_efficiency     \t|0.001 – 0.004\t    |\n",
    "|predator_loss_rate\t    |0.04 – 0.08\t    |\n",
    "\n",
    "* Sensitivity analysis often focuses on the final values of an outcome at the end of the simulation. However, we can also look at metrics that give us additional information about the behavior of the model over time. Using [the statsmodel library](https://www.statsmodels.org/stable/index.html) and an appropriate sampling design, fit a linear regression model for each of the following indicators. What can we conclude about the behavior of the model, and about the importance of the different inputs?\n",
    "\n",
    "  * The final values of the _prey_ outcome\n",
    "  * The mean values of the _prey_ outcome over time, within each experiment\n",
    "  * The standard deviations of the _prey_ outcome over time, within each experiment\n",
    "  \n",
    "\n",
    "* Use the Sobol sampling functionality included in the Workbench to perform experiments with a sample size of N=50, then analyze the results with SALib for the same three indicators. This requires specifying the keyword argument `'uncertainty_sampling'` of perform_experiments. Note that when using Sobol sampling, the meaning of the keyword argument `scenarios` changes a bit. In order to properly estimate Sobol scores as well as interaction effects, you require N * (2D+2) scenarios, where D is the number of uncertain parameters, and N is the value for scenarios passed to `perform_experiments`. Repeat the analysis for larger sample sizes, with N=250 and N=1000. How can we interpret the first-order and total indices? Are these sample sizes sufficient for a stable estimation of the indices? You'll need to use the [get_SALib_problem](https://emaworkbench.readthedocs.io/en/latest/ema_documentation/em_framework/salib_samplers.html) function to convert your Workbench experiments to a problem definition that you can pass to the SALib analysis function. \n",
    "\n",
    "* *hint*: sobol is a deterministic sequence of quasi random numbers. Thus, you can run with N=1000 and simply slice for 1:50 and 1:250.\n",
    "\n",
    "* Use the [Extra-Trees analysis](https://emaworkbench.readthedocs.io/en/latest/ema_documentation/analysis/feature_scoring.html) included in the Workbench to approximate the Sobol total indices, with a suitable sampling design. As a starting point, use an ensemble of 100 trees and a max_features parameter of 0.6, and set the analysis to regression mode. Are the estimated importances stable relative to the sample size and the analysis parameters? How do the results compare to the Sobol indices? For more details on this analysis see [Jaxa-Rozen & Kwakkel (2018)](https://www.sciencedirect.com/science/article/pii/S1364815217311581)"
   ]
  },
  {
   "cell_type": "code",
   "execution_count": 1,
   "metadata": {
    "collapsed": false,
    "jupyter": {
     "outputs_hidden": false
    }
   },
   "outputs": [
    {
     "name": "stderr",
     "output_type": "stream",
     "text": [
      "C:\\Conda\\lib\\site-packages\\ema_workbench\\em_framework\\optimization.py:48: ImportWarning: platypus based optimization not available\n",
      "  warnings.warn(\"platypus based optimization not available\", ImportWarning)\n"
     ]
    }
   ],
   "source": [
    "'''\n",
    "Import all required libraries and dependencies\n",
    "'''\n",
    "\n",
    "import numpy as np\n",
    "import pandas as pd\n",
    "import matplotlib.pyplot as plt\n",
    "import seaborn as sns\n",
    "\n",
    "from ema_workbench import (Model, MultiprocessingEvaluator, SequentialEvaluator, RealParameter, TimeSeriesOutcome, perform_experiments, ema_logging)\n",
    "from ema_workbench.em_framework.samplers import LHSSampler\n",
    "from ema_workbench.em_framework.samplers import FullFactorialSampler as FFS\n",
    "\n",
    "\n",
    "from ema_workbench.em_framework.evaluators import LHS, SOBOL, MORRIS\n",
    "\n",
    "from ema_workbench.analysis import feature_scoring\n",
    "from ema_workbench.analysis.scenario_discovery_util import RuleInductionType\n",
    "from ema_workbench.em_framework.salib_samplers import get_SALib_problem\n",
    "from SALib.analyze import sobol\n",
    "\n",
    "from sklearn.preprocessing import StandardScaler\n",
    "from statsmodels.regression.linear_model import OLS"
   ]
  },
  {
   "cell_type": "code",
   "execution_count": 2,
   "metadata": {
    "collapsed": false,
    "jupyter": {
     "outputs_hidden": false
    }
   },
   "outputs": [],
   "source": [
    "'''\n",
    "Define predator prey function\n",
    "'''\n",
    "def pred_prey_py(prey_birth_rate=0.025, predation_rate=0.0015, predator_efficiency=0.002,\n",
    "             predator_loss_rate=0.06, initial_prey=50, initial_predators=20, dt=0.25, \n",
    "             final_time=365, reps=1):\n",
    "\n",
    "    #Initial values\n",
    "    predators = np.zeros((reps, int(final_time/dt)+1))\n",
    "    prey = np.zeros((reps, int(final_time/dt)+1))\n",
    "    sim_time = np.zeros((reps, int(final_time/dt)+1))\n",
    "    \n",
    "    for r in range(reps):\n",
    "\n",
    "        predators[r,0] = initial_predators\n",
    "        prey[r,0] = initial_prey\n",
    "\n",
    "    #Calculate the time series\n",
    "    for t in range(0, sim_time.shape[1]-1):\n",
    "\n",
    "        dx = (prey_birth_rate*prey[r,t]) - (predation_rate*prey[r,t]*predators[r,t])\n",
    "        dy = (predator_efficiency*predators[r,t]*prey[r,t]) - (predator_loss_rate*predators[r,t])\n",
    "\n",
    "        prey[r,t+1] = max(prey[r,t] + dx*dt, 0)\n",
    "        predators[r,t+1] = max(predators[r,t] + dy*dt, 0)\n",
    "        sim_time[r,t+1] = (t+1)*dt\n",
    "    \n",
    "    #Return outcomes\n",
    "    return {'TIME':sim_time,\n",
    "            'predators':predators,\n",
    "            'prey':prey}"
   ]
  },
  {
   "cell_type": "code",
   "execution_count": 3,
   "metadata": {},
   "outputs": [],
   "source": [
    "ema_logging.log_to_stderr(ema_logging.INFO) # turn on logging for ema_workbench\n",
    "\n",
    "# Setup the model\n",
    "pred_prey = Model('PredPreyPy', function=pred_prey_py)\n",
    "\n",
    "pred_prey.uncertainties = [RealParameter('prey_birth_rate', 0.015, 0.035),\n",
    "                       RealParameter('predation_rate', 0.0005, 0.003),\n",
    "                      RealParameter('predator_efficiency', 0.0001, 0.004),\n",
    "                      RealParameter('predator_loss_rate', 0.004, 0.08)]\n",
    "\n",
    "pred_prey.outcomes = [TimeSeriesOutcome('TIME'),\n",
    "                  TimeSeriesOutcome('predators'),\n",
    "                  TimeSeriesOutcome('prey')]"
   ]
  },
  {
   "cell_type": "code",
   "execution_count": null,
   "metadata": {},
   "outputs": [],
   "source": []
  },
  {
   "cell_type": "code",
   "execution_count": 4,
   "metadata": {},
   "outputs": [
    {
     "name": "stderr",
     "output_type": "stream",
     "text": [
      "[MainProcess/INFO] performing 200 scenarios * 1 policies * 1 model(s) = 200 experiments\n",
      "[MainProcess/INFO] performing experiments sequentially\n",
      "[MainProcess/INFO] 20 cases completed\n",
      "[MainProcess/INFO] 40 cases completed\n",
      "[MainProcess/INFO] 60 cases completed\n",
      "[MainProcess/INFO] 80 cases completed\n",
      "[MainProcess/INFO] 100 cases completed\n",
      "[MainProcess/INFO] 120 cases completed\n",
      "[MainProcess/INFO] 140 cases completed\n",
      "[MainProcess/INFO] 160 cases completed\n",
      "[MainProcess/INFO] 180 cases completed\n",
      "[MainProcess/INFO] 200 cases completed\n",
      "[MainProcess/INFO] experiments finished\n"
     ]
    }
   ],
   "source": [
    "'''\n",
    "Run model with sequential evaluator as pred prey is not included as seperate .py file and thus wont work with multiprocessing\n",
    "'''\n",
    "\n",
    "with SequentialEvaluator(pred_prey) as evaluator:\n",
    "    experiment, outcomes = evaluator.perform_experiments(scenarios = 200, uncertainty_sampling=LHS)"
   ]
  },
  {
   "cell_type": "code",
   "execution_count": 5,
   "metadata": {},
   "outputs": [],
   "source": [
    "'''\n",
    "Convert outcomes to single variables per experiment for st. dev, final value and mean.\n",
    "'''\n",
    "df = pd.DataFrame(outcomes['prey'][:,-1])\n",
    "df['std'] = df.T.std()\n",
    "df['last'] = df[1460]\n",
    "df['mean'] = np.mean(df)"
   ]
  },
  {
   "cell_type": "code",
   "execution_count": 6,
   "metadata": {},
   "outputs": [],
   "source": [
    "'''\n",
    "Store used variables in new dataframe.\n",
    "'''\n",
    "Y = df[['std', 'last', 'mean']].copy()\n",
    "\n",
    "\n"
   ]
  },
  {
   "cell_type": "code",
   "execution_count": 7,
   "metadata": {},
   "outputs": [],
   "source": [
    "'''\n",
    "Normalize input values as to be able to compare results of these variables.\n",
    "'''\n",
    "\n",
    "scale = StandardScaler()\n",
    "X = experiment[['predation_rate', 'predator_efficiency', 'predator_loss_rate', 'prey_birth_rate']]\n",
    "scaled_data = scale.fit_transform(X)\n",
    "X = pd.DataFrame(X)"
   ]
  },
  {
   "cell_type": "code",
   "execution_count": 8,
   "metadata": {},
   "outputs": [
    {
     "data": {
      "text/html": [
       "<table class=\"simpletable\">\n",
       "<caption>OLS Regression Results</caption>\n",
       "<tr>\n",
       "  <th>Dep. Variable:</th>           <td>std</td>       <th>  R-squared (uncentered):</th>      <td>   0.190</td>\n",
       "</tr>\n",
       "<tr>\n",
       "  <th>Model:</th>                   <td>OLS</td>       <th>  Adj. R-squared (uncentered):</th> <td>   0.174</td>\n",
       "</tr>\n",
       "<tr>\n",
       "  <th>Method:</th>             <td>Least Squares</td>  <th>  F-statistic:       </th>          <td>   11.53</td>\n",
       "</tr>\n",
       "<tr>\n",
       "  <th>Date:</th>             <td>Tue, 11 May 2021</td> <th>  Prob (F-statistic):</th>          <td>2.00e-08</td>\n",
       "</tr>\n",
       "<tr>\n",
       "  <th>Time:</th>                 <td>14:26:35</td>     <th>  Log-Likelihood:    </th>          <td> -1125.2</td>\n",
       "</tr>\n",
       "<tr>\n",
       "  <th>No. Observations:</th>      <td>   200</td>      <th>  AIC:               </th>          <td>   2258.</td>\n",
       "</tr>\n",
       "<tr>\n",
       "  <th>Df Residuals:</th>          <td>   196</td>      <th>  BIC:               </th>          <td>   2272.</td>\n",
       "</tr>\n",
       "<tr>\n",
       "  <th>Df Model:</th>              <td>     4</td>      <th>                     </th>              <td> </td>   \n",
       "</tr>\n",
       "<tr>\n",
       "  <th>Covariance Type:</th>      <td>nonrobust</td>    <th>                     </th>              <td> </td>   \n",
       "</tr>\n",
       "</table>\n",
       "<table class=\"simpletable\">\n",
       "<tr>\n",
       "   <td></td>     <th>coef</th>     <th>std err</th>      <th>t</th>      <th>P>|t|</th>  <th>[0.025</th>    <th>0.975]</th>  \n",
       "</tr>\n",
       "<tr>\n",
       "  <th>x1</th> <td>    7.6252</td> <td>    4.837</td> <td>    1.577</td> <td> 0.117</td> <td>   -1.913</td> <td>   17.164</td>\n",
       "</tr>\n",
       "<tr>\n",
       "  <th>x2</th> <td>  -29.0750</td> <td>    4.853</td> <td>   -5.991</td> <td> 0.000</td> <td>  -38.647</td> <td>  -19.503</td>\n",
       "</tr>\n",
       "<tr>\n",
       "  <th>x3</th> <td>   14.7402</td> <td>    4.832</td> <td>    3.050</td> <td> 0.003</td> <td>    5.210</td> <td>   24.271</td>\n",
       "</tr>\n",
       "<tr>\n",
       "  <th>x4</th> <td>    0.8219</td> <td>    4.865</td> <td>    0.169</td> <td> 0.866</td> <td>   -8.773</td> <td>   10.417</td>\n",
       "</tr>\n",
       "</table>\n",
       "<table class=\"simpletable\">\n",
       "<tr>\n",
       "  <th>Omnibus:</th>       <td>207.040</td> <th>  Durbin-Watson:     </th> <td>   1.574</td>\n",
       "</tr>\n",
       "<tr>\n",
       "  <th>Prob(Omnibus):</th> <td> 0.000</td>  <th>  Jarque-Bera (JB):  </th> <td>4463.298</td>\n",
       "</tr>\n",
       "<tr>\n",
       "  <th>Skew:</th>          <td> 4.185</td>  <th>  Prob(JB):          </th> <td>    0.00</td>\n",
       "</tr>\n",
       "<tr>\n",
       "  <th>Kurtosis:</th>      <td>24.577</td>  <th>  Cond. No.          </th> <td>    1.21</td>\n",
       "</tr>\n",
       "</table><br/><br/>Notes:<br/>[1] R² is computed without centering (uncentered) since the model does not contain a constant.<br/>[2] Standard Errors assume that the covariance matrix of the errors is correctly specified."
      ],
      "text/plain": [
       "<class 'statsmodels.iolib.summary.Summary'>\n",
       "\"\"\"\n",
       "                                 OLS Regression Results                                \n",
       "=======================================================================================\n",
       "Dep. Variable:                    std   R-squared (uncentered):                   0.190\n",
       "Model:                            OLS   Adj. R-squared (uncentered):              0.174\n",
       "Method:                 Least Squares   F-statistic:                              11.53\n",
       "Date:                Tue, 11 May 2021   Prob (F-statistic):                    2.00e-08\n",
       "Time:                        14:26:35   Log-Likelihood:                         -1125.2\n",
       "No. Observations:                 200   AIC:                                      2258.\n",
       "Df Residuals:                     196   BIC:                                      2272.\n",
       "Df Model:                           4                                                  \n",
       "Covariance Type:            nonrobust                                                  \n",
       "==============================================================================\n",
       "                 coef    std err          t      P>|t|      [0.025      0.975]\n",
       "------------------------------------------------------------------------------\n",
       "x1             7.6252      4.837      1.577      0.117      -1.913      17.164\n",
       "x2           -29.0750      4.853     -5.991      0.000     -38.647     -19.503\n",
       "x3            14.7402      4.832      3.050      0.003       5.210      24.271\n",
       "x4             0.8219      4.865      0.169      0.866      -8.773      10.417\n",
       "==============================================================================\n",
       "Omnibus:                      207.040   Durbin-Watson:                   1.574\n",
       "Prob(Omnibus):                  0.000   Jarque-Bera (JB):             4463.298\n",
       "Skew:                           4.185   Prob(JB):                         0.00\n",
       "Kurtosis:                      24.577   Cond. No.                         1.21\n",
       "==============================================================================\n",
       "\n",
       "Notes:\n",
       "[1] R² is computed without centering (uncentered) since the model does not contain a constant.\n",
       "[2] Standard Errors assume that the covariance matrix of the errors is correctly specified.\n",
       "\"\"\""
      ]
     },
     "execution_count": 8,
     "metadata": {},
     "output_type": "execute_result"
    }
   ],
   "source": [
    "regression_model = OLS(Y['std'], scaled_data).fit()\n",
    "regression_model.summary()"
   ]
  },
  {
   "cell_type": "code",
   "execution_count": 9,
   "metadata": {},
   "outputs": [
    {
     "data": {
      "text/html": [
       "<table class=\"simpletable\">\n",
       "<caption>OLS Regression Results</caption>\n",
       "<tr>\n",
       "  <th>Dep. Variable:</th>          <td>mean</td>       <th>  R-squared (uncentered):</th>      <td>   0.001</td>\n",
       "</tr>\n",
       "<tr>\n",
       "  <th>Model:</th>                   <td>OLS</td>       <th>  Adj. R-squared (uncentered):</th> <td>  -0.020</td>\n",
       "</tr>\n",
       "<tr>\n",
       "  <th>Method:</th>             <td>Least Squares</td>  <th>  F-statistic:       </th>          <td> 0.04132</td>\n",
       "</tr>\n",
       "<tr>\n",
       "  <th>Date:</th>             <td>Tue, 11 May 2021</td> <th>  Prob (F-statistic):</th>           <td> 0.997</td> \n",
       "</tr>\n",
       "<tr>\n",
       "  <th>Time:</th>                 <td>14:26:35</td>     <th>  Log-Likelihood:    </th>          <td> -975.35</td>\n",
       "</tr>\n",
       "<tr>\n",
       "  <th>No. Observations:</th>      <td>   200</td>      <th>  AIC:               </th>          <td>   1959.</td>\n",
       "</tr>\n",
       "<tr>\n",
       "  <th>Df Residuals:</th>          <td>   196</td>      <th>  BIC:               </th>          <td>   1972.</td>\n",
       "</tr>\n",
       "<tr>\n",
       "  <th>Df Model:</th>              <td>     4</td>      <th>                     </th>              <td> </td>   \n",
       "</tr>\n",
       "<tr>\n",
       "  <th>Covariance Type:</th>      <td>nonrobust</td>    <th>                     </th>              <td> </td>   \n",
       "</tr>\n",
       "</table>\n",
       "<table class=\"simpletable\">\n",
       "<tr>\n",
       "   <td></td>     <th>coef</th>     <th>std err</th>      <th>t</th>      <th>P>|t|</th>  <th>[0.025</th>    <th>0.975]</th>  \n",
       "</tr>\n",
       "<tr>\n",
       "  <th>x1</th> <td>   -0.0094</td> <td>    2.286</td> <td>   -0.004</td> <td> 0.997</td> <td>   -4.518</td> <td>    4.499</td>\n",
       "</tr>\n",
       "<tr>\n",
       "  <th>x2</th> <td>   -0.0969</td> <td>    2.294</td> <td>   -0.042</td> <td> 0.966</td> <td>   -4.621</td> <td>    4.427</td>\n",
       "</tr>\n",
       "<tr>\n",
       "  <th>x3</th> <td>   -0.8805</td> <td>    2.284</td> <td>   -0.386</td> <td> 0.700</td> <td>   -5.385</td> <td>    3.624</td>\n",
       "</tr>\n",
       "<tr>\n",
       "  <th>x4</th> <td>    0.1592</td> <td>    2.300</td> <td>    0.069</td> <td> 0.945</td> <td>   -4.376</td> <td>    4.694</td>\n",
       "</tr>\n",
       "</table>\n",
       "<table class=\"simpletable\">\n",
       "<tr>\n",
       "  <th>Omnibus:</th>       <td>31.184</td> <th>  Durbin-Watson:     </th> <td>   0.002</td>\n",
       "</tr>\n",
       "<tr>\n",
       "  <th>Prob(Omnibus):</th> <td> 0.000</td> <th>  Jarque-Bera (JB):  </th> <td>  26.807</td>\n",
       "</tr>\n",
       "<tr>\n",
       "  <th>Skew:</th>          <td> 0.807</td> <th>  Prob(JB):          </th> <td>1.51e-06</td>\n",
       "</tr>\n",
       "<tr>\n",
       "  <th>Kurtosis:</th>      <td> 2.218</td> <th>  Cond. No.          </th> <td>    1.21</td>\n",
       "</tr>\n",
       "</table><br/><br/>Notes:<br/>[1] R² is computed without centering (uncentered) since the model does not contain a constant.<br/>[2] Standard Errors assume that the covariance matrix of the errors is correctly specified."
      ],
      "text/plain": [
       "<class 'statsmodels.iolib.summary.Summary'>\n",
       "\"\"\"\n",
       "                                 OLS Regression Results                                \n",
       "=======================================================================================\n",
       "Dep. Variable:                   mean   R-squared (uncentered):                   0.001\n",
       "Model:                            OLS   Adj. R-squared (uncentered):             -0.020\n",
       "Method:                 Least Squares   F-statistic:                            0.04132\n",
       "Date:                Tue, 11 May 2021   Prob (F-statistic):                       0.997\n",
       "Time:                        14:26:35   Log-Likelihood:                         -975.35\n",
       "No. Observations:                 200   AIC:                                      1959.\n",
       "Df Residuals:                     196   BIC:                                      1972.\n",
       "Df Model:                           4                                                  \n",
       "Covariance Type:            nonrobust                                                  \n",
       "==============================================================================\n",
       "                 coef    std err          t      P>|t|      [0.025      0.975]\n",
       "------------------------------------------------------------------------------\n",
       "x1            -0.0094      2.286     -0.004      0.997      -4.518       4.499\n",
       "x2            -0.0969      2.294     -0.042      0.966      -4.621       4.427\n",
       "x3            -0.8805      2.284     -0.386      0.700      -5.385       3.624\n",
       "x4             0.1592      2.300      0.069      0.945      -4.376       4.694\n",
       "==============================================================================\n",
       "Omnibus:                       31.184   Durbin-Watson:                   0.002\n",
       "Prob(Omnibus):                  0.000   Jarque-Bera (JB):               26.807\n",
       "Skew:                           0.807   Prob(JB):                     1.51e-06\n",
       "Kurtosis:                       2.218   Cond. No.                         1.21\n",
       "==============================================================================\n",
       "\n",
       "Notes:\n",
       "[1] R² is computed without centering (uncentered) since the model does not contain a constant.\n",
       "[2] Standard Errors assume that the covariance matrix of the errors is correctly specified.\n",
       "\"\"\""
      ]
     },
     "execution_count": 9,
     "metadata": {},
     "output_type": "execute_result"
    }
   ],
   "source": [
    "regression_model = OLS(Y['mean'], scaled_data).fit()\n",
    "regression_model.summary()"
   ]
  },
  {
   "cell_type": "code",
   "execution_count": 10,
   "metadata": {},
   "outputs": [
    {
     "data": {
      "text/html": [
       "<table class=\"simpletable\">\n",
       "<caption>OLS Regression Results</caption>\n",
       "<tr>\n",
       "  <th>Dep. Variable:</th>          <td>last</td>       <th>  R-squared (uncentered):</th>      <td>   0.207</td>\n",
       "</tr>\n",
       "<tr>\n",
       "  <th>Model:</th>                   <td>OLS</td>       <th>  Adj. R-squared (uncentered):</th> <td>   0.191</td>\n",
       "</tr>\n",
       "<tr>\n",
       "  <th>Method:</th>             <td>Least Squares</td>  <th>  F-statistic:       </th>          <td>   12.81</td>\n",
       "</tr>\n",
       "<tr>\n",
       "  <th>Date:</th>             <td>Tue, 11 May 2021</td> <th>  Prob (F-statistic):</th>          <td>2.78e-09</td>\n",
       "</tr>\n",
       "<tr>\n",
       "  <th>Time:</th>                 <td>14:26:35</td>     <th>  Log-Likelihood:    </th>          <td> -1211.7</td>\n",
       "</tr>\n",
       "<tr>\n",
       "  <th>No. Observations:</th>      <td>   200</td>      <th>  AIC:               </th>          <td>   2431.</td>\n",
       "</tr>\n",
       "<tr>\n",
       "  <th>Df Residuals:</th>          <td>   196</td>      <th>  BIC:               </th>          <td>   2445.</td>\n",
       "</tr>\n",
       "<tr>\n",
       "  <th>Df Model:</th>              <td>     4</td>      <th>                     </th>              <td> </td>   \n",
       "</tr>\n",
       "<tr>\n",
       "  <th>Covariance Type:</th>      <td>nonrobust</td>    <th>                     </th>              <td> </td>   \n",
       "</tr>\n",
       "</table>\n",
       "<table class=\"simpletable\">\n",
       "<tr>\n",
       "   <td></td>     <th>coef</th>     <th>std err</th>      <th>t</th>      <th>P>|t|</th>  <th>[0.025</th>    <th>0.975]</th>  \n",
       "</tr>\n",
       "<tr>\n",
       "  <th>x1</th> <td>   19.2417</td> <td>    7.453</td> <td>    2.582</td> <td> 0.011</td> <td>    4.544</td> <td>   33.939</td>\n",
       "</tr>\n",
       "<tr>\n",
       "  <th>x2</th> <td>  -43.9555</td> <td>    7.478</td> <td>   -5.878</td> <td> 0.000</td> <td>  -58.704</td> <td>  -29.207</td>\n",
       "</tr>\n",
       "<tr>\n",
       "  <th>x3</th> <td>   26.1317</td> <td>    7.446</td> <td>    3.509</td> <td> 0.001</td> <td>   11.447</td> <td>   40.817</td>\n",
       "</tr>\n",
       "<tr>\n",
       "  <th>x4</th> <td>    3.8415</td> <td>    7.497</td> <td>    0.512</td> <td> 0.609</td> <td>  -10.943</td> <td>   18.626</td>\n",
       "</tr>\n",
       "</table>\n",
       "<table class=\"simpletable\">\n",
       "<tr>\n",
       "  <th>Omnibus:</th>       <td>305.646</td> <th>  Durbin-Watson:     </th> <td>   1.590</td> \n",
       "</tr>\n",
       "<tr>\n",
       "  <th>Prob(Omnibus):</th> <td> 0.000</td>  <th>  Jarque-Bera (JB):  </th> <td>36713.149</td>\n",
       "</tr>\n",
       "<tr>\n",
       "  <th>Skew:</th>          <td> 7.057</td>  <th>  Prob(JB):          </th> <td>    0.00</td> \n",
       "</tr>\n",
       "<tr>\n",
       "  <th>Kurtosis:</th>      <td>67.857</td>  <th>  Cond. No.          </th> <td>    1.21</td> \n",
       "</tr>\n",
       "</table><br/><br/>Notes:<br/>[1] R² is computed without centering (uncentered) since the model does not contain a constant.<br/>[2] Standard Errors assume that the covariance matrix of the errors is correctly specified."
      ],
      "text/plain": [
       "<class 'statsmodels.iolib.summary.Summary'>\n",
       "\"\"\"\n",
       "                                 OLS Regression Results                                \n",
       "=======================================================================================\n",
       "Dep. Variable:                   last   R-squared (uncentered):                   0.207\n",
       "Model:                            OLS   Adj. R-squared (uncentered):              0.191\n",
       "Method:                 Least Squares   F-statistic:                              12.81\n",
       "Date:                Tue, 11 May 2021   Prob (F-statistic):                    2.78e-09\n",
       "Time:                        14:26:35   Log-Likelihood:                         -1211.7\n",
       "No. Observations:                 200   AIC:                                      2431.\n",
       "Df Residuals:                     196   BIC:                                      2445.\n",
       "Df Model:                           4                                                  \n",
       "Covariance Type:            nonrobust                                                  \n",
       "==============================================================================\n",
       "                 coef    std err          t      P>|t|      [0.025      0.975]\n",
       "------------------------------------------------------------------------------\n",
       "x1            19.2417      7.453      2.582      0.011       4.544      33.939\n",
       "x2           -43.9555      7.478     -5.878      0.000     -58.704     -29.207\n",
       "x3            26.1317      7.446      3.509      0.001      11.447      40.817\n",
       "x4             3.8415      7.497      0.512      0.609     -10.943      18.626\n",
       "==============================================================================\n",
       "Omnibus:                      305.646   Durbin-Watson:                   1.590\n",
       "Prob(Omnibus):                  0.000   Jarque-Bera (JB):            36713.149\n",
       "Skew:                           7.057   Prob(JB):                         0.00\n",
       "Kurtosis:                      67.857   Cond. No.                         1.21\n",
       "==============================================================================\n",
       "\n",
       "Notes:\n",
       "[1] R² is computed without centering (uncentered) since the model does not contain a constant.\n",
       "[2] Standard Errors assume that the covariance matrix of the errors is correctly specified.\n",
       "\"\"\""
      ]
     },
     "execution_count": 10,
     "metadata": {},
     "output_type": "execute_result"
    }
   ],
   "source": [
    "regression_model = OLS(Y['last'], scaled_data).fit()\n",
    "regression_model.summary()"
   ]
  },
  {
   "cell_type": "markdown",
   "metadata": {},
   "source": [
    "We can see that predator loss rate is important for the mean of the model.  Predator efficiency has the highest coefficient for the final state. \n",
    "Also we can see that the model goes to the extremes at the final state of the model as differences in end states is much bigger than the differences in the means.\n"
   ]
  },
  {
   "cell_type": "code",
   "execution_count": 11,
   "metadata": {},
   "outputs": [
    {
     "name": "stderr",
     "output_type": "stream",
     "text": [
      "C:\\Conda\\lib\\site-packages\\SALib\\sample\\saltelli.py:52: FutureWarning: \n",
      "        Convergence properties of the Sobol' sequence is only valid if `N` = 2^n.\n",
      "        SALib will continue on, but results may have issues.\n",
      "        In future, this will raise an error.\n",
      "        \n",
      "  warnings.warn(msg, FutureWarning)\n",
      "[MainProcess/INFO] performing 10000 scenarios * 1 policies * 1 model(s) = 10000 experiments\n",
      "[MainProcess/INFO] performing experiments sequentially\n",
      "[MainProcess/INFO] 1000 cases completed\n",
      "[MainProcess/INFO] 2000 cases completed\n",
      "[MainProcess/INFO] 3000 cases completed\n",
      "[MainProcess/INFO] 4000 cases completed\n",
      "[MainProcess/INFO] 5000 cases completed\n",
      "[MainProcess/INFO] 6000 cases completed\n",
      "[MainProcess/INFO] 7000 cases completed\n",
      "[MainProcess/INFO] 8000 cases completed\n",
      "[MainProcess/INFO] 9000 cases completed\n",
      "[MainProcess/INFO] 10000 cases completed\n",
      "[MainProcess/INFO] experiments finished\n"
     ]
    }
   ],
   "source": [
    "'''\n",
    "Run experiments with SOBOL sampling\n",
    "'''\n",
    "\n",
    "with SequentialEvaluator(pred_prey) as evaluator:\n",
    "    experiment_SOBOL, outcomes_SOBOL = evaluator.perform_experiments(scenarios = 1000, uncertainty_sampling=SOBOL)"
   ]
  },
  {
   "cell_type": "code",
   "execution_count": 12,
   "metadata": {},
   "outputs": [],
   "source": [
    "'''\n",
    "Convert outcomes to single variables per experiment for st. dev, final value and mean.\n",
    "'''\n",
    "\n",
    "df_SOBOL = pd.DataFrame(outcomes_SOBOL['prey'][:,-1])\n",
    "df_SOBOL['std'] = df_SOBOL.T.std()\n",
    "df_SOBOL['last'] = df_SOBOL[df_SOBOL.columns[-1]]\n",
    "df_SOBOL['mean'] = np.mean(df_SOBOL, axis=1)\n",
    "Y_SOBOL = df_SOBOL[['std', 'last', 'mean']]\n",
    "\n",
    "X_SOBOL = experiment_SOBOL[['predation_rate', 'predator_efficiency', 'predator_loss_rate', 'prey_birth_rate']]\n"
   ]
  },
  {
   "cell_type": "code",
   "execution_count": 13,
   "metadata": {},
   "outputs": [],
   "source": [
    "'''\n",
    "Define SAlib problem\n",
    "'''\n",
    "\n",
    "SA_lib_problem = get_SALib_problem(pred_prey.uncertainties)"
   ]
  },
  {
   "cell_type": "code",
   "execution_count": 14,
   "metadata": {},
   "outputs": [],
   "source": [
    "Si = sobol.analyze(SA_lib_problem, Y_SOBOL['mean'].to_numpy())"
   ]
  },
  {
   "cell_type": "markdown",
   "metadata": {},
   "source": [
    "# Note\n",
    "The second order effects are not in the plots, but are there. Especially the effect between the second and the third variable is there. So between predator_efficiency and predator_loss_rate. "
   ]
  },
  {
   "cell_type": "code",
   "execution_count": 15,
   "metadata": {},
   "outputs": [
    {
     "data": {
      "text/plain": [
       "{'ST': array([0.00257692, 0.89458777, 0.29079579, 0.00975835]),\n",
       " 'ST_conf': array([0.00124212, 0.15889193, 0.0906212 , 0.00401179]),\n",
       " 'S1': array([-0.00145842,  0.68603644,  0.13200074,  0.00290268]),\n",
       " 'S1_conf': array([0.00398725, 0.21141713, 0.0494404 , 0.00523696])}"
      ]
     },
     "execution_count": 15,
     "metadata": {},
     "output_type": "execute_result"
    }
   ],
   "source": [
    "scores_filtered = {k:Si[k] for k in ['ST', 'ST_conf', 'S1', 'S1_conf']}\n",
    "scores_filtered"
   ]
  },
  {
   "cell_type": "code",
   "execution_count": 16,
   "metadata": {},
   "outputs": [
    {
     "data": {
      "text/html": [
       "<div>\n",
       "<style scoped>\n",
       "    .dataframe tbody tr th:only-of-type {\n",
       "        vertical-align: middle;\n",
       "    }\n",
       "\n",
       "    .dataframe tbody tr th {\n",
       "        vertical-align: top;\n",
       "    }\n",
       "\n",
       "    .dataframe thead th {\n",
       "        text-align: right;\n",
       "    }\n",
       "</style>\n",
       "<table border=\"1\" class=\"dataframe\">\n",
       "  <thead>\n",
       "    <tr style=\"text-align: right;\">\n",
       "      <th></th>\n",
       "      <th>ST</th>\n",
       "      <th>ST_conf</th>\n",
       "      <th>S1</th>\n",
       "      <th>S1_conf</th>\n",
       "    </tr>\n",
       "  </thead>\n",
       "  <tbody>\n",
       "    <tr>\n",
       "      <th>predation_rate</th>\n",
       "      <td>0.002577</td>\n",
       "      <td>0.001242</td>\n",
       "      <td>-0.001458</td>\n",
       "      <td>0.003987</td>\n",
       "    </tr>\n",
       "    <tr>\n",
       "      <th>predator_efficiency</th>\n",
       "      <td>0.894588</td>\n",
       "      <td>0.158892</td>\n",
       "      <td>0.686036</td>\n",
       "      <td>0.211417</td>\n",
       "    </tr>\n",
       "    <tr>\n",
       "      <th>predator_loss_rate</th>\n",
       "      <td>0.290796</td>\n",
       "      <td>0.090621</td>\n",
       "      <td>0.132001</td>\n",
       "      <td>0.049440</td>\n",
       "    </tr>\n",
       "    <tr>\n",
       "      <th>prey_birth_rate</th>\n",
       "      <td>0.009758</td>\n",
       "      <td>0.004012</td>\n",
       "      <td>0.002903</td>\n",
       "      <td>0.005237</td>\n",
       "    </tr>\n",
       "  </tbody>\n",
       "</table>\n",
       "</div>"
      ],
      "text/plain": [
       "                           ST   ST_conf        S1   S1_conf\n",
       "predation_rate       0.002577  0.001242 -0.001458  0.003987\n",
       "predator_efficiency  0.894588  0.158892  0.686036  0.211417\n",
       "predator_loss_rate   0.290796  0.090621  0.132001  0.049440\n",
       "prey_birth_rate      0.009758  0.004012  0.002903  0.005237"
      ]
     },
     "execution_count": 16,
     "metadata": {},
     "output_type": "execute_result"
    }
   ],
   "source": [
    "Si_df = pd.DataFrame(scores_filtered, index= SA_lib_problem['names'])\n",
    "Si_df"
   ]
  },
  {
   "cell_type": "code",
   "execution_count": 17,
   "metadata": {},
   "outputs": [],
   "source": [
    "sns.set_style('white')"
   ]
  },
  {
   "cell_type": "code",
   "execution_count": 18,
   "metadata": {},
   "outputs": [
    {
     "data": {
      "image/png": "[encoded data removed]",
      "text/plain": [
       "<Figure size 576x432 with 1 Axes>"
      ]
     },
     "metadata": {},
     "output_type": "display_data"
    }
   ],
   "source": [
    "fig, ax = plt.subplots(1)\n",
    "indices = Si_df[['S1', 'ST']]\n",
    "err = Si_df[['S1_conf', 'ST_conf']]\n",
    "indices.plot.bar(yerr=err.values.T, ax=ax)\n",
    "fig.set_size_inches(8,6)\n",
    "fig.subplots_adjust(bottom=0.3)"
   ]
  },
  {
   "cell_type": "code",
   "execution_count": 19,
   "metadata": {},
   "outputs": [
    {
     "data": {
      "image/png": "[encoded data removed]",
      "text/plain": [
       "<Figure size 576x432 with 1 Axes>"
      ]
     },
     "metadata": {},
     "output_type": "display_data"
    }
   ],
   "source": [
    "Si = sobol.analyze(SA_lib_problem, Y_SOBOL['mean'].to_numpy()[:2500])\n",
    "scores_filtered = {k:Si[k] for k in ['ST', 'ST_conf', 'S1', 'S1_conf']}\n",
    "Si_df = pd.DataFrame(scores_filtered, index= SA_lib_problem['names'])\n",
    "\n",
    "fig, ax = plt.subplots(1)\n",
    "indices = Si_df[['S1', 'ST']]\n",
    "err = Si_df[['S1_conf', 'ST_conf']]\n",
    "indices.plot.bar(yerr=err.values.T, ax=ax)\n",
    "fig.set_size_inches(8,6)\n",
    "fig.subplots_adjust(bottom=0.3)"
   ]
  },
  {
   "cell_type": "code",
   "execution_count": 20,
   "metadata": {},
   "outputs": [
    {
     "data": {
      "image/png": "[encoded data removed]",
      "text/plain": [
       "<Figure size 576x432 with 1 Axes>"
      ]
     },
     "metadata": {},
     "output_type": "display_data"
    }
   ],
   "source": [
    "Si = sobol.analyze(SA_lib_problem, Y_SOBOL['mean'].to_numpy()[:500])\n",
    "scores_filtered = {k:Si[k] for k in ['ST', 'ST_conf', 'S1', 'S1_conf']}\n",
    "Si_df = pd.DataFrame(scores_filtered, index= SA_lib_problem['names'])\n",
    "\n",
    "fig, ax = plt.subplots(1)\n",
    "indices = Si_df[['S1', 'ST']]\n",
    "err = Si_df[['S1_conf', 'ST_conf']]\n",
    "indices.plot.bar(yerr=err.values.T, ax=ax)\n",
    "fig.set_size_inches(8,6)\n",
    "fig.subplots_adjust(bottom=0.3)"
   ]
  },
  {
   "cell_type": "markdown",
   "metadata": {},
   "source": [
    "# Random Trees\n",
    "\n"
   ]
  },
  {
   "cell_type": "code",
   "execution_count": 21,
   "metadata": {},
   "outputs": [
    {
     "name": "stderr",
     "output_type": "stream",
     "text": [
      "[MainProcess/INFO] performing 400 scenarios * 1 policies * 1 model(s) = 400 experiments\n",
      "[MainProcess/INFO] performing experiments sequentially\n",
      "[MainProcess/INFO] 40 cases completed\n",
      "[MainProcess/INFO] 80 cases completed\n",
      "[MainProcess/INFO] 120 cases completed\n",
      "[MainProcess/INFO] 160 cases completed\n",
      "[MainProcess/INFO] 200 cases completed\n",
      "[MainProcess/INFO] 240 cases completed\n",
      "[MainProcess/INFO] 280 cases completed\n",
      "[MainProcess/INFO] 320 cases completed\n",
      "[MainProcess/INFO] 360 cases completed\n",
      "[MainProcess/INFO] 400 cases completed\n",
      "[MainProcess/INFO] experiments finished\n"
     ]
    }
   ],
   "source": [
    "with SequentialEvaluator(pred_prey) as evaluator:\n",
    "    experiments_trees, outcomes_trees = evaluator.perform_experiments(scenarios = 400, uncertainty_sampling=LHS)\n"
   ]
  },
  {
   "cell_type": "code",
   "execution_count": 22,
   "metadata": {},
   "outputs": [],
   "source": [
    "df = pd.DataFrame(outcomes_trees['prey'][:,-1])\n",
    "df['std'] = df.T.std()\n",
    "df['last'] = df[1460]\n",
    "df['mean'] = np.mean(df, axis=1)\n",
    "Y = df[['std', 'last', 'mean']]\n",
    "X = experiments_trees[['predation_rate', 'predator_efficiency', 'predator_loss_rate', 'prey_birth_rate']]\n"
   ]
  },
  {
   "cell_type": "code",
   "execution_count": 23,
   "metadata": {},
   "outputs": [
    {
     "data": {
      "text/html": [
       "<div>\n",
       "<style scoped>\n",
       "    .dataframe tbody tr th:only-of-type {\n",
       "        vertical-align: middle;\n",
       "    }\n",
       "\n",
       "    .dataframe tbody tr th {\n",
       "        vertical-align: top;\n",
       "    }\n",
       "\n",
       "    .dataframe thead th {\n",
       "        text-align: right;\n",
       "    }\n",
       "</style>\n",
       "<table border=\"1\" class=\"dataframe\">\n",
       "  <thead>\n",
       "    <tr style=\"text-align: right;\">\n",
       "      <th></th>\n",
       "      <th>1</th>\n",
       "    </tr>\n",
       "    <tr>\n",
       "      <th>0</th>\n",
       "      <th></th>\n",
       "    </tr>\n",
       "  </thead>\n",
       "  <tbody>\n",
       "    <tr>\n",
       "      <th>predator_efficiency</th>\n",
       "      <td>0.621637</td>\n",
       "    </tr>\n",
       "    <tr>\n",
       "      <th>predator_loss_rate</th>\n",
       "      <td>0.207081</td>\n",
       "    </tr>\n",
       "    <tr>\n",
       "      <th>predation_rate</th>\n",
       "      <td>0.089199</td>\n",
       "    </tr>\n",
       "    <tr>\n",
       "      <th>prey_birth_rate</th>\n",
       "      <td>0.082082</td>\n",
       "    </tr>\n",
       "  </tbody>\n",
       "</table>\n",
       "</div>"
      ],
      "text/plain": [
       "                            1\n",
       "0                            \n",
       "predator_efficiency  0.621637\n",
       "predator_loss_rate   0.207081\n",
       "predation_rate       0.089199\n",
       "prey_birth_rate      0.082082"
      ]
     },
     "execution_count": 23,
     "metadata": {},
     "output_type": "execute_result"
    }
   ],
   "source": [
    "rd_trees = feature_scoring.get_rf_feature_scores(X,Y,mode = RuleInductionType.REGRESSION,nr_trees=100, max_features=0.6)\n",
    "rd_trees[0]"
   ]
  },
  {
   "cell_type": "code",
   "execution_count": 24,
   "metadata": {},
   "outputs": [
    {
     "data": {
      "text/plain": [
       "RandomForestRegressor(max_features=0.6, oob_score=True)"
      ]
     },
     "execution_count": 24,
     "metadata": {},
     "output_type": "execute_result"
    }
   ],
   "source": [
    "rd_trees[1]"
   ]
  },
  {
   "cell_type": "code",
   "execution_count": 25,
   "metadata": {},
   "outputs": [
    {
     "data": {
      "text/plain": [
       "<AxesSubplot:xlabel='0'>"
      ]
     },
     "execution_count": 25,
     "metadata": {},
     "output_type": "execute_result"
    },
    {
     "data": {
      "image/png": "[encoded data removed]",
      "text/plain": [
       "<Figure size 432x288 with 1 Axes>"
      ]
     },
     "metadata": {},
     "output_type": "display_data"
    }
   ],
   "source": [
    "rd_trees[0].plot.bar()"
   ]
  },
  {
   "cell_type": "markdown",
   "metadata": {},
   "source": [
    "It can be seen that the random trees compared to sobol both score high on predator effeciency. The other three factors also score lower in both analyses. So we can see that overall patterns are the same but that values in sobol are higher (this might be due to the random trees being limited to 0.6 for max_features)."
   ]
  },
  {
   "cell_type": "code",
   "execution_count": null,
   "metadata": {},
   "outputs": [],
   "source": []
  }
 ],
 "metadata": {
  "kernelspec": {
   "display_name": "Python 3",
   "language": "python",
   "name": "python3"
  },
  "language_info": {
   "codemirror_mode": {
    "name": "ipython",
    "version": 3
   },
   "file_extension": ".py",
   "mimetype": "text/x-python",
   "name": "python",
   "nbconvert_exporter": "python",
   "pygments_lexer": "ipython3",
   "version": "3.8.5"
  }
 },
 "nbformat": 4,
 "nbformat_minor": 4
}
