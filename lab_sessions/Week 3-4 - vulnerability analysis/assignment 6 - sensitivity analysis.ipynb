{
 "cells": [
  {
   "cell_type": "markdown",
   "metadata": {},
   "source": [
    "# EPA1361 - Model-Based Decision Making\n",
    "# Week 3 - Sensitivity analysis\n",
    "\n",
    "This exercise uses the same predator-prey model we used for the multi-model exercise, focusing on the Python version. As with the other exercise, define a model object for the function below, with the uncertainty ranges provided:\n",
    "\n",
    "|Parameter\t|Range or value\t        |\n",
    "|-----------|--------------:|\n",
    "|prey_birth_rate    \t|0.015 – 0.035\t|\n",
    "|predation_rate|0.0005 – 0.003 \t|\n",
    "|predator_efficiency     \t|0.001 – 0.004\t    |\n",
    "|predator_loss_rate\t    |0.04 – 0.08\t    |\n",
    "\n",
    "* Sensitivity analysis often focuses on the final values of an outcome at the end of the simulation. However, we can also look at metrics that give us additional information about the behavior of the model over time. Using [the statsmodel library](https://www.statsmodels.org/stable/index.html) and an appropriate sampling design, fit a linear regression model for each of the following indicators. What can we conclude about the behavior of the model, and about the importance of the different inputs?\n",
    "\n",
    "  * The final values of the _prey_ outcome\n",
    "  * The mean values of the _prey_ outcome over time, within each experiment\n",
    "  * The standard deviations of the _prey_ outcome over time, within each experiment\n",
    "  \n",
    "\n",
    "* Use the Sobol sampling functionality included in the Workbench to perform experiments with a sample size of N=50, then analyze the results with SALib for the same three indicators. This requires specifying the keyword argument `'uncertainty_sampling'` of perform_experiments. Note that when using Sobol sampling, the meaning of the keyword argument `scenarios` changes a bit. In order to properly estimate Sobol scores as well as interaction effects, you require N * (2D+2) scenarios, where D is the number of uncertain parameters, and N is the value for scenarios passed to `perform_experiments`. Repeat the analysis for larger sample sizes, with N=250 and N=1000. How can we interpret the first-order and total indices? Are these sample sizes sufficient for a stable estimation of the indices? You'll need to use the [get_SALib_problem](https://emaworkbench.readthedocs.io/en/latest/ema_documentation/em_framework/salib_samplers.html) function to convert your Workbench experiments to a problem definition that you can pass to the SALib analysis function. \n",
    "\n",
    "* *hint*: sobol is a deterministic sequence of quasi random numbers. Thus, you can run with N=1000 and simply slice for 1:50 and 1:250.\n",
    "\n",
    "* Use the [Extra-Trees analysis](https://emaworkbench.readthedocs.io/en/latest/ema_documentation/analysis/feature_scoring.html) included in the Workbench to approximate the Sobol total indices, with a suitable sampling design. As a starting point, use an ensemble of 100 trees and a max_features parameter of 0.6, and set the analysis to regression mode. Are the estimated importances stable relative to the sample size and the analysis parameters? How do the results compare to the Sobol indices? For more details on this analysis see [Jaxa-Rozen & Kwakkel (2018)](https://www.sciencedirect.com/science/article/pii/S1364815217311581)"
   ]
  },
  {
   "cell_type": "code",
   "execution_count": 17,
   "metadata": {
    "collapsed": false,
    "jupyter": {
     "outputs_hidden": false
    }
   },
   "outputs": [],
   "source": [
    "import numpy as np\n",
    "import pandas as pd\n",
    "import matplotlib.pyplot as plt\n",
    "\n",
    "from ema_workbench import (Model, MultiprocessingEvaluator, SequentialEvaluator, RealParameter, TimeSeriesOutcome, perform_experiments, ema_logging)\n",
    "\n",
    "from ema_workbench.em_framework.evaluators import LHS, SOBOL, MORRIS\n",
    "\n",
    "from ema_workbench.analysis import feature_scoring\n",
    "from ema_workbench.analysis.scenario_discovery_util import RuleInductionType\n",
    "from ema_workbench.em_framework.salib_samplers import get_SALib_problem\n",
    "from SALib.analyze import sobol\n",
    "\n",
    "def pred_prey1(prey_birth_rate=0.025, predation_rate=0.0015, predator_efficiency=0.002,\n",
    "             predator_loss_rate=0.06, initial_prey=50, initial_predators=20, dt=0.25, \n",
    "             final_time=365, reps=1):\n",
    "\n",
    "    #Initial values\n",
    "    predators = np.zeros((reps, int(final_time/dt)+1))\n",
    "    prey = np.zeros((reps, int(final_time/dt)+1))\n",
    "    sim_time = np.zeros((reps, int(final_time/dt)+1))\n",
    "    \n",
    "    for r in range(reps):\n",
    "\n",
    "        predators[r,0] = initial_predators\n",
    "        prey[r,0] = initial_prey\n",
    "\n",
    "    #Calculate the time series\n",
    "    for t in range(0, sim_time.shape[1]-1):\n",
    "\n",
    "        dx = (prey_birth_rate*prey[r,t]) - (predation_rate*prey[r,t]*predators[r,t])\n",
    "        dy = (predator_efficiency*predators[r,t]*prey[r,t]) - (predator_loss_rate*predators[r,t])\n",
    "\n",
    "        prey[r,t+1] = max(prey[r,t] + dx*dt, 0)\n",
    "        predators[r,t+1] = max(predators[r,t] + dy*dt, 0)\n",
    "        sim_time[r,t+1] = (t+1)*dt\n",
    "    \n",
    "    #Return outcomes\n",
    "    return {'TIME':sim_time,\n",
    "            'predators':predators,\n",
    "            'prey':prey}"
   ]
  },
  {
   "cell_type": "code",
   "execution_count": 2,
   "metadata": {},
   "outputs": [],
   "source": [
    "ema_logging.log_to_stderr(ema_logging.INFO)\n",
    "\n",
    "# Setup the model\n",
    "pred_prey = Model('PredPreyPy', function=pred_prey1)\n",
    "\n",
    "pred_prey.uncertainties = [RealParameter('prey_birth_rate', 0.015, 0.035),\n",
    "                       RealParameter('predation_rate', 0.0005, 0.003),\n",
    "                      RealParameter('predator_efficiency', 0.0001, 0.004),\n",
    "                      RealParameter('predator_loss_rate', 0.004, 0.08)]\n",
    "\n",
    "pred_prey.outcomes = [TimeSeriesOutcome('TIME'),\n",
    "                  TimeSeriesOutcome('predators'),\n",
    "                  TimeSeriesOutcome('prey')]"
   ]
  },
  {
   "cell_type": "code",
   "execution_count": 10,
   "metadata": {},
   "outputs": [],
   "source": [
    "from ema_workbench.em_framework.samplers import LHSSampler\n",
    "from ema_workbench.em_framework.samplers import FullFactorialSampler as FFS"
   ]
  },
  {
   "cell_type": "code",
   "execution_count": 13,
   "metadata": {},
   "outputs": [
    {
     "output_type": "stream",
     "name": "stderr",
     "text": [
      "[MainProcess/INFO] performing 200 scenarios * 1 policies * 1 model(s) = 200 experiments\n",
      "[MainProcess/INFO] performing experiments sequentially\n",
      "[MainProcess/INFO] 20 cases completed\n",
      "[MainProcess/INFO] 40 cases completed\n",
      "[MainProcess/INFO] 60 cases completed\n",
      "[MainProcess/INFO] 80 cases completed\n",
      "[MainProcess/INFO] 100 cases completed\n",
      "[MainProcess/INFO] 120 cases completed\n",
      "[MainProcess/INFO] 140 cases completed\n",
      "[MainProcess/INFO] 160 cases completed\n",
      "[MainProcess/INFO] 180 cases completed\n",
      "[MainProcess/INFO] 200 cases completed\n",
      "[MainProcess/INFO] experiments finished\n"
     ]
    }
   ],
   "source": [
    "with SequentialEvaluator(pred_prey) as evaluator:\n",
    "    experiment, outcomes = evaluator.perform_experiments(scenarios = 200, uncertainty_sampling=LHS)"
   ]
  },
  {
   "cell_type": "code",
   "execution_count": null,
   "metadata": {},
   "outputs": [],
   "source": [
    "outcomes"
   ]
  },
  {
   "cell_type": "code",
   "execution_count": 73,
   "metadata": {},
   "outputs": [],
   "source": [
    "df = pd.DataFrame(outcomes['prey'][:,-1])\n",
    "df['std'] = df.T.std()\n",
    "df['last'] = df[1460]\n",
    "df['mean'] = np.mean(df)"
   ]
  },
  {
   "cell_type": "code",
   "execution_count": 79,
   "metadata": {},
   "outputs": [],
   "source": [
    "Y = df[['std', 'last', 'mean']]\n",
    "\n",
    "\n"
   ]
  },
  {
   "cell_type": "code",
   "execution_count": 81,
   "metadata": {},
   "outputs": [
    {
     "output_type": "execute_result",
     "data": {
      "text/plain": [
       "     predation_rate  predator_efficiency  predator_loss_rate  prey_birth_rate\n",
       "0          0.000854             0.002846            0.071857         0.028602\n",
       "1          0.002213             0.002743            0.035781         0.022772\n",
       "2          0.002803             0.001202            0.046667         0.027162\n",
       "3          0.002355             0.001131            0.006751         0.027312\n",
       "4          0.002724             0.001433            0.007094         0.032842\n",
       "..              ...                  ...                 ...              ...\n",
       "195        0.002877             0.000213            0.034494         0.029637\n",
       "196        0.000998             0.003130            0.072983         0.020003\n",
       "197        0.001718             0.002779            0.072461         0.020831\n",
       "198        0.002429             0.000359            0.004009         0.031366\n",
       "199        0.002304             0.001091            0.055691         0.015399\n",
       "\n",
       "[200 rows x 4 columns]"
      ],
      "text/html": "<div>\n<style scoped>\n    .dataframe tbody tr th:only-of-type {\n        vertical-align: middle;\n    }\n\n    .dataframe tbody tr th {\n        vertical-align: top;\n    }\n\n    .dataframe thead th {\n        text-align: right;\n    }\n</style>\n<table border=\"1\" class=\"dataframe\">\n  <thead>\n    <tr style=\"text-align: right;\">\n      <th></th>\n      <th>predation_rate</th>\n      <th>predator_efficiency</th>\n      <th>predator_loss_rate</th>\n      <th>prey_birth_rate</th>\n    </tr>\n  </thead>\n  <tbody>\n    <tr>\n      <th>0</th>\n      <td>0.000854</td>\n      <td>0.002846</td>\n      <td>0.071857</td>\n      <td>0.028602</td>\n    </tr>\n    <tr>\n      <th>1</th>\n      <td>0.002213</td>\n      <td>0.002743</td>\n      <td>0.035781</td>\n      <td>0.022772</td>\n    </tr>\n    <tr>\n      <th>2</th>\n      <td>0.002803</td>\n      <td>0.001202</td>\n      <td>0.046667</td>\n      <td>0.027162</td>\n    </tr>\n    <tr>\n      <th>3</th>\n      <td>0.002355</td>\n      <td>0.001131</td>\n      <td>0.006751</td>\n      <td>0.027312</td>\n    </tr>\n    <tr>\n      <th>4</th>\n      <td>0.002724</td>\n      <td>0.001433</td>\n      <td>0.007094</td>\n      <td>0.032842</td>\n    </tr>\n    <tr>\n      <th>...</th>\n      <td>...</td>\n      <td>...</td>\n      <td>...</td>\n      <td>...</td>\n    </tr>\n    <tr>\n      <th>195</th>\n      <td>0.002877</td>\n      <td>0.000213</td>\n      <td>0.034494</td>\n      <td>0.029637</td>\n    </tr>\n    <tr>\n      <th>196</th>\n      <td>0.000998</td>\n      <td>0.003130</td>\n      <td>0.072983</td>\n      <td>0.020003</td>\n    </tr>\n    <tr>\n      <th>197</th>\n      <td>0.001718</td>\n      <td>0.002779</td>\n      <td>0.072461</td>\n      <td>0.020831</td>\n    </tr>\n    <tr>\n      <th>198</th>\n      <td>0.002429</td>\n      <td>0.000359</td>\n      <td>0.004009</td>\n      <td>0.031366</td>\n    </tr>\n    <tr>\n      <th>199</th>\n      <td>0.002304</td>\n      <td>0.001091</td>\n      <td>0.055691</td>\n      <td>0.015399</td>\n    </tr>\n  </tbody>\n</table>\n<p>200 rows × 4 columns</p>\n</div>"
     },
     "metadata": {},
     "execution_count": 81
    }
   ],
   "source": [
    "from sklearn.preprocessing import StandardScaler\n",
    "scale = StandardScaler()\n",
    "X = experiment[['predation_rate', 'predator_efficiency', 'predator_loss_rate', 'prey_birth_rate']]\n",
    "scaled_data = scale.fit_transform(X)\n",
    "X = pd.DataFrame(X)\n",
    "X"
   ]
  },
  {
   "cell_type": "code",
   "execution_count": 82,
   "metadata": {},
   "outputs": [],
   "source": [
    "from statsmodels.regression.linear_model import OLS"
   ]
  },
  {
   "cell_type": "code",
   "execution_count": 90,
   "metadata": {},
   "outputs": [
    {
     "output_type": "execute_result",
     "data": {
      "text/plain": [
       "<class 'statsmodels.iolib.summary.Summary'>\n",
       "\"\"\"\n",
       "                                 OLS Regression Results                                \n",
       "=======================================================================================\n",
       "Dep. Variable:                    std   R-squared (uncentered):                   0.412\n",
       "Model:                            OLS   Adj. R-squared (uncentered):              0.400\n",
       "Method:                 Least Squares   F-statistic:                              34.27\n",
       "Date:                Mon, 10 May 2021   Prob (F-statistic):                    1.11e-21\n",
       "Time:                        14:31:17   Log-Likelihood:                         -1008.2\n",
       "No. Observations:                 200   AIC:                                      2024.\n",
       "Df Residuals:                     196   BIC:                                      2038.\n",
       "Df Model:                           4                                                  \n",
       "Covariance Type:            nonrobust                                                  \n",
       "=======================================================================================\n",
       "                          coef    std err          t      P>|t|      [0.025      0.975]\n",
       "---------------------------------------------------------------------------------------\n",
       "predation_rate       -506.1633   3412.562     -0.148      0.882   -7236.218    6223.891\n",
       "predator_efficiency  -1.43e+04   2304.236     -6.206      0.000   -1.88e+04   -9756.449\n",
       "predator_loss_rate    367.3323    114.300      3.214      0.002     141.917     592.748\n",
       "prey_birth_rate      1547.5826    296.772      5.215      0.000     962.306    2132.859\n",
       "==============================================================================\n",
       "Omnibus:                      228.057   Durbin-Watson:                   2.273\n",
       "Prob(Omnibus):                  0.000   Jarque-Bera (JB):             8962.445\n",
       "Skew:                           4.568   Prob(JB):                         0.00\n",
       "Kurtosis:                      34.497   Cond. No.                         69.2\n",
       "==============================================================================\n",
       "\n",
       "Notes:\n",
       "[1] R² is computed without centering (uncentered) since the model does not contain a constant.\n",
       "[2] Standard Errors assume that the covariance matrix of the errors is correctly specified.\n",
       "\"\"\""
      ],
      "text/html": "<table class=\"simpletable\">\n<caption>OLS Regression Results</caption>\n<tr>\n  <th>Dep. Variable:</th>           <td>std</td>       <th>  R-squared (uncentered):</th>      <td>   0.412</td>\n</tr>\n<tr>\n  <th>Model:</th>                   <td>OLS</td>       <th>  Adj. R-squared (uncentered):</th> <td>   0.400</td>\n</tr>\n<tr>\n  <th>Method:</th>             <td>Least Squares</td>  <th>  F-statistic:       </th>          <td>   34.27</td>\n</tr>\n<tr>\n  <th>Date:</th>             <td>Mon, 10 May 2021</td> <th>  Prob (F-statistic):</th>          <td>1.11e-21</td>\n</tr>\n<tr>\n  <th>Time:</th>                 <td>14:31:17</td>     <th>  Log-Likelihood:    </th>          <td> -1008.2</td>\n</tr>\n<tr>\n  <th>No. Observations:</th>      <td>   200</td>      <th>  AIC:               </th>          <td>   2024.</td>\n</tr>\n<tr>\n  <th>Df Residuals:</th>          <td>   196</td>      <th>  BIC:               </th>          <td>   2038.</td>\n</tr>\n<tr>\n  <th>Df Model:</th>              <td>     4</td>      <th>                     </th>              <td> </td>   \n</tr>\n<tr>\n  <th>Covariance Type:</th>      <td>nonrobust</td>    <th>                     </th>              <td> </td>   \n</tr>\n</table>\n<table class=\"simpletable\">\n<tr>\n           <td></td>              <th>coef</th>     <th>std err</th>      <th>t</th>      <th>P>|t|</th>  <th>[0.025</th>    <th>0.975]</th>  \n</tr>\n<tr>\n  <th>predation_rate</th>      <td> -506.1633</td> <td> 3412.562</td> <td>   -0.148</td> <td> 0.882</td> <td>-7236.218</td> <td> 6223.891</td>\n</tr>\n<tr>\n  <th>predator_efficiency</th> <td> -1.43e+04</td> <td> 2304.236</td> <td>   -6.206</td> <td> 0.000</td> <td>-1.88e+04</td> <td>-9756.449</td>\n</tr>\n<tr>\n  <th>predator_loss_rate</th>  <td>  367.3323</td> <td>  114.300</td> <td>    3.214</td> <td> 0.002</td> <td>  141.917</td> <td>  592.748</td>\n</tr>\n<tr>\n  <th>prey_birth_rate</th>     <td> 1547.5826</td> <td>  296.772</td> <td>    5.215</td> <td> 0.000</td> <td>  962.306</td> <td> 2132.859</td>\n</tr>\n</table>\n<table class=\"simpletable\">\n<tr>\n  <th>Omnibus:</th>       <td>228.057</td> <th>  Durbin-Watson:     </th> <td>   2.273</td>\n</tr>\n<tr>\n  <th>Prob(Omnibus):</th> <td> 0.000</td>  <th>  Jarque-Bera (JB):  </th> <td>8962.445</td>\n</tr>\n<tr>\n  <th>Skew:</th>          <td> 4.568</td>  <th>  Prob(JB):          </th> <td>    0.00</td>\n</tr>\n<tr>\n  <th>Kurtosis:</th>      <td>34.497</td>  <th>  Cond. No.          </th> <td>    69.2</td>\n</tr>\n</table><br/><br/>Notes:<br/>[1] R² is computed without centering (uncentered) since the model does not contain a constant.<br/>[2] Standard Errors assume that the covariance matrix of the errors is correctly specified."
     },
     "metadata": {},
     "execution_count": 90
    }
   ],
   "source": [
    "regression_model = OLS(Y['std'], X).fit()\n",
    "regression_model.summary()"
   ]
  },
  {
   "cell_type": "code",
   "execution_count": 89,
   "metadata": {},
   "outputs": [
    {
     "output_type": "execute_result",
     "data": {
      "text/plain": [
       "<class 'statsmodels.iolib.summary.Summary'>\n",
       "\"\"\"\n",
       "                                 OLS Regression Results                                \n",
       "=======================================================================================\n",
       "Dep. Variable:                   mean   R-squared (uncentered):                   0.890\n",
       "Model:                            OLS   Adj. R-squared (uncentered):              0.888\n",
       "Method:                 Least Squares   F-statistic:                              397.1\n",
       "Date:                Mon, 10 May 2021   Prob (F-statistic):                    8.73e-93\n",
       "Time:                        14:31:12   Log-Likelihood:                         -755.11\n",
       "No. Observations:                 200   AIC:                                      1518.\n",
       "Df Residuals:                     196   BIC:                                      1531.\n",
       "Df Model:                           4                                                  \n",
       "Covariance Type:            nonrobust                                                  \n",
       "=======================================================================================\n",
       "                          coef    std err          t      P>|t|      [0.025      0.975]\n",
       "---------------------------------------------------------------------------------------\n",
       "predation_rate       3614.5667    962.684      3.755      0.000    1716.018    5513.116\n",
       "predator_efficiency  1577.2656    650.025      2.426      0.016     295.324    2859.207\n",
       "predator_loss_rate    109.5425     32.244      3.397      0.001      45.953     173.132\n",
       "prey_birth_rate       616.2870     83.719      7.361      0.000     451.180     781.394\n",
       "==============================================================================\n",
       "Omnibus:                       10.487   Durbin-Watson:                   0.581\n",
       "Prob(Omnibus):                  0.005   Jarque-Bera (JB):               10.400\n",
       "Skew:                           0.514   Prob(JB):                      0.00552\n",
       "Kurtosis:                       2.563   Cond. No.                         69.2\n",
       "==============================================================================\n",
       "\n",
       "Notes:\n",
       "[1] R² is computed without centering (uncentered) since the model does not contain a constant.\n",
       "[2] Standard Errors assume that the covariance matrix of the errors is correctly specified.\n",
       "\"\"\""
      ],
      "text/html": "<table class=\"simpletable\">\n<caption>OLS Regression Results</caption>\n<tr>\n  <th>Dep. Variable:</th>          <td>mean</td>       <th>  R-squared (uncentered):</th>      <td>   0.890</td>\n</tr>\n<tr>\n  <th>Model:</th>                   <td>OLS</td>       <th>  Adj. R-squared (uncentered):</th> <td>   0.888</td>\n</tr>\n<tr>\n  <th>Method:</th>             <td>Least Squares</td>  <th>  F-statistic:       </th>          <td>   397.1</td>\n</tr>\n<tr>\n  <th>Date:</th>             <td>Mon, 10 May 2021</td> <th>  Prob (F-statistic):</th>          <td>8.73e-93</td>\n</tr>\n<tr>\n  <th>Time:</th>                 <td>14:31:12</td>     <th>  Log-Likelihood:    </th>          <td> -755.11</td>\n</tr>\n<tr>\n  <th>No. Observations:</th>      <td>   200</td>      <th>  AIC:               </th>          <td>   1518.</td>\n</tr>\n<tr>\n  <th>Df Residuals:</th>          <td>   196</td>      <th>  BIC:               </th>          <td>   1531.</td>\n</tr>\n<tr>\n  <th>Df Model:</th>              <td>     4</td>      <th>                     </th>              <td> </td>   \n</tr>\n<tr>\n  <th>Covariance Type:</th>      <td>nonrobust</td>    <th>                     </th>              <td> </td>   \n</tr>\n</table>\n<table class=\"simpletable\">\n<tr>\n           <td></td>              <th>coef</th>     <th>std err</th>      <th>t</th>      <th>P>|t|</th>  <th>[0.025</th>    <th>0.975]</th>  \n</tr>\n<tr>\n  <th>predation_rate</th>      <td> 3614.5667</td> <td>  962.684</td> <td>    3.755</td> <td> 0.000</td> <td> 1716.018</td> <td> 5513.116</td>\n</tr>\n<tr>\n  <th>predator_efficiency</th> <td> 1577.2656</td> <td>  650.025</td> <td>    2.426</td> <td> 0.016</td> <td>  295.324</td> <td> 2859.207</td>\n</tr>\n<tr>\n  <th>predator_loss_rate</th>  <td>  109.5425</td> <td>   32.244</td> <td>    3.397</td> <td> 0.001</td> <td>   45.953</td> <td>  173.132</td>\n</tr>\n<tr>\n  <th>prey_birth_rate</th>     <td>  616.2870</td> <td>   83.719</td> <td>    7.361</td> <td> 0.000</td> <td>  451.180</td> <td>  781.394</td>\n</tr>\n</table>\n<table class=\"simpletable\">\n<tr>\n  <th>Omnibus:</th>       <td>10.487</td> <th>  Durbin-Watson:     </th> <td>   0.581</td>\n</tr>\n<tr>\n  <th>Prob(Omnibus):</th> <td> 0.005</td> <th>  Jarque-Bera (JB):  </th> <td>  10.400</td>\n</tr>\n<tr>\n  <th>Skew:</th>          <td> 0.514</td> <th>  Prob(JB):          </th> <td> 0.00552</td>\n</tr>\n<tr>\n  <th>Kurtosis:</th>      <td> 2.563</td> <th>  Cond. No.          </th> <td>    69.2</td>\n</tr>\n</table><br/><br/>Notes:<br/>[1] R² is computed without centering (uncentered) since the model does not contain a constant.<br/>[2] Standard Errors assume that the covariance matrix of the errors is correctly specified."
     },
     "metadata": {},
     "execution_count": 89
    }
   ],
   "source": [
    "regression_model = OLS(Y['mean'], X).fit()\n",
    "regression_model.summary()"
   ]
  },
  {
   "cell_type": "code",
   "execution_count": 91,
   "metadata": {},
   "outputs": [
    {
     "output_type": "execute_result",
     "data": {
      "text/plain": [
       "<class 'statsmodels.iolib.summary.Summary'>\n",
       "\"\"\"\n",
       "                                 OLS Regression Results                                \n",
       "=======================================================================================\n",
       "Dep. Variable:                   last   R-squared (uncentered):                   0.379\n",
       "Model:                            OLS   Adj. R-squared (uncentered):              0.367\n",
       "Method:                 Least Squares   F-statistic:                              29.96\n",
       "Date:                Mon, 10 May 2021   Prob (F-statistic):                    1.88e-19\n",
       "Time:                        14:31:24   Log-Likelihood:                         -1163.9\n",
       "No. Observations:                 200   AIC:                                      2336.\n",
       "Df Residuals:                     196   BIC:                                      2349.\n",
       "Df Model:                           4                                                  \n",
       "Covariance Type:            nonrobust                                                  \n",
       "=======================================================================================\n",
       "                          coef    std err          t      P>|t|      [0.025      0.975]\n",
       "---------------------------------------------------------------------------------------\n",
       "predation_rate       2652.1221   7433.815      0.357      0.722    -1.2e+04    1.73e+04\n",
       "predator_efficiency -3.393e+04   5019.474     -6.760      0.000   -4.38e+04    -2.4e+04\n",
       "predator_loss_rate   1017.1626    248.987      4.085      0.000     526.125    1508.200\n",
       "prey_birth_rate      2630.3328    646.479      4.069      0.000    1355.385    3905.280\n",
       "==============================================================================\n",
       "Omnibus:                      317.884   Durbin-Watson:                   2.205\n",
       "Prob(Omnibus):                  0.000   Jarque-Bera (JB):            52523.437\n",
       "Skew:                           7.437   Prob(JB):                         0.00\n",
       "Kurtosis:                      80.984   Cond. No.                         69.2\n",
       "==============================================================================\n",
       "\n",
       "Notes:\n",
       "[1] R² is computed without centering (uncentered) since the model does not contain a constant.\n",
       "[2] Standard Errors assume that the covariance matrix of the errors is correctly specified.\n",
       "\"\"\""
      ],
      "text/html": "<table class=\"simpletable\">\n<caption>OLS Regression Results</caption>\n<tr>\n  <th>Dep. Variable:</th>          <td>last</td>       <th>  R-squared (uncentered):</th>      <td>   0.379</td>\n</tr>\n<tr>\n  <th>Model:</th>                   <td>OLS</td>       <th>  Adj. R-squared (uncentered):</th> <td>   0.367</td>\n</tr>\n<tr>\n  <th>Method:</th>             <td>Least Squares</td>  <th>  F-statistic:       </th>          <td>   29.96</td>\n</tr>\n<tr>\n  <th>Date:</th>             <td>Mon, 10 May 2021</td> <th>  Prob (F-statistic):</th>          <td>1.88e-19</td>\n</tr>\n<tr>\n  <th>Time:</th>                 <td>14:31:24</td>     <th>  Log-Likelihood:    </th>          <td> -1163.9</td>\n</tr>\n<tr>\n  <th>No. Observations:</th>      <td>   200</td>      <th>  AIC:               </th>          <td>   2336.</td>\n</tr>\n<tr>\n  <th>Df Residuals:</th>          <td>   196</td>      <th>  BIC:               </th>          <td>   2349.</td>\n</tr>\n<tr>\n  <th>Df Model:</th>              <td>     4</td>      <th>                     </th>              <td> </td>   \n</tr>\n<tr>\n  <th>Covariance Type:</th>      <td>nonrobust</td>    <th>                     </th>              <td> </td>   \n</tr>\n</table>\n<table class=\"simpletable\">\n<tr>\n           <td></td>              <th>coef</th>     <th>std err</th>      <th>t</th>      <th>P>|t|</th>  <th>[0.025</th>    <th>0.975]</th>  \n</tr>\n<tr>\n  <th>predation_rate</th>      <td> 2652.1221</td> <td> 7433.815</td> <td>    0.357</td> <td> 0.722</td> <td> -1.2e+04</td> <td> 1.73e+04</td>\n</tr>\n<tr>\n  <th>predator_efficiency</th> <td>-3.393e+04</td> <td> 5019.474</td> <td>   -6.760</td> <td> 0.000</td> <td>-4.38e+04</td> <td> -2.4e+04</td>\n</tr>\n<tr>\n  <th>predator_loss_rate</th>  <td> 1017.1626</td> <td>  248.987</td> <td>    4.085</td> <td> 0.000</td> <td>  526.125</td> <td> 1508.200</td>\n</tr>\n<tr>\n  <th>prey_birth_rate</th>     <td> 2630.3328</td> <td>  646.479</td> <td>    4.069</td> <td> 0.000</td> <td> 1355.385</td> <td> 3905.280</td>\n</tr>\n</table>\n<table class=\"simpletable\">\n<tr>\n  <th>Omnibus:</th>       <td>317.884</td> <th>  Durbin-Watson:     </th> <td>   2.205</td> \n</tr>\n<tr>\n  <th>Prob(Omnibus):</th> <td> 0.000</td>  <th>  Jarque-Bera (JB):  </th> <td>52523.437</td>\n</tr>\n<tr>\n  <th>Skew:</th>          <td> 7.437</td>  <th>  Prob(JB):          </th> <td>    0.00</td> \n</tr>\n<tr>\n  <th>Kurtosis:</th>      <td>80.984</td>  <th>  Cond. No.          </th> <td>    69.2</td> \n</tr>\n</table><br/><br/>Notes:<br/>[1] R² is computed without centering (uncentered) since the model does not contain a constant.<br/>[2] Standard Errors assume that the covariance matrix of the errors is correctly specified."
     },
     "metadata": {},
     "execution_count": 91
    }
   ],
   "source": [
    "regression_model = OLS(Y['last'], X).fit()\n",
    "regression_model.summary()"
   ]
  },
  {
   "cell_type": "code",
   "execution_count": 93,
   "metadata": {},
   "outputs": [
    {
     "output_type": "stream",
     "name": "stderr",
     "text": [
      "[MainProcess/INFO] performing 500 scenarios * 1 policies * 1 model(s) = 500 experiments\n",
      "[MainProcess/INFO] performing experiments sequentially\n",
      "[MainProcess/INFO] 50 cases completed\n",
      "[MainProcess/INFO] 100 cases completed\n",
      "[MainProcess/INFO] 150 cases completed\n",
      "[MainProcess/INFO] 200 cases completed\n",
      "[MainProcess/INFO] 250 cases completed\n",
      "[MainProcess/INFO] 300 cases completed\n",
      "[MainProcess/INFO] 350 cases completed\n",
      "[MainProcess/INFO] 400 cases completed\n",
      "[MainProcess/INFO] 450 cases completed\n",
      "[MainProcess/INFO] 500 cases completed\n",
      "[MainProcess/INFO] experiments finished\n"
     ]
    }
   ],
   "source": [
    "with SequentialEvaluator(pred_prey) as evaluator:\n",
    "    experiment_SOBOL, outcomes_SOBOL = evaluator.perform_experiments(scenarios = 50, uncertainty_sampling=SOBOL)"
   ]
  },
  {
   "cell_type": "code",
   "execution_count": null,
   "metadata": {},
   "outputs": [],
   "source": []
  },
  {
   "cell_type": "code",
   "execution_count": null,
   "metadata": {},
   "outputs": [],
   "source": []
  }
 ],
 "metadata": {
  "kernelspec": {
   "name": "python388jvsc74a57bd02f0ac929bf69e767d97169d4c3c2e590e3a5aa1e8190d34be53496fcb6d6f9aa",
   "display_name": "Python 3.8.8 64-bit ('model_based_decision_making': conda)"
  },
  "language_info": {
   "codemirror_mode": {
    "name": "ipython",
    "version": 3
   },
   "file_extension": ".py",
   "mimetype": "text/x-python",
   "name": "python",
   "nbconvert_exporter": "python",
   "pygments_lexer": "ipython3",
   "version": "3.8.8"
  }
 },
 "nbformat": 4,
 "nbformat_minor": 4
}