{
 "cells": [
  {
   "cell_type": "markdown",
   "metadata": {},
   "source": [
    "# EPA1361 - Model-Based Decision Making\n",
    "\n",
    "## Multi-model analysis\n",
    "\n",
    "This exercise uses a simple version of the [Lotka-Volterra predator-prey equations](https://en.wikipedia.org/wiki/Lotka%E2%80%93Volterra_equations) to show how the EMA Workbench can be used for a\n",
    "multi-model analysis, in addition to typical parametric/structural uncertainties. This will let you test the connectors provided in the Workbench for Excel, NetLogo, and Vensim / PySD; we'll also use the models for the sensitivity analysis exercise in week 3.\n",
    "\n",
    "* Using the three model files provided and the Python function below, define model objects for each implementation (Excel, NetLogo, Vensim/PySD, and Python), and test them using a single ensemble. Use 50 experiments sampled from the parameters below (so that each experiment will be executed for the 4 models, for a total of 200), and retrieve outputs for the _TIME_, _predators_, and _prey_ variables.\n",
    "    * excel and vensim are only supported on windows\n",
    "    * vensim requires the DSS version of Vensim\n",
    "    * Netlogo supoprt depends on [jpype](http://jpype.readthedocs.io/en/latest/install.html) and [pynetlogo](https://pynetlogo.readthedocs.io/en/latest/). Also, if you don't have NetLogo installed, please get it from [NetLogo 6.1.1](https://ccl.northwestern.edu/netlogo/download.shtml) \n",
    "    * for pysd, see [its documentation](http://pysd.readthedocs.io/en/master/installation.html)\n",
    "    * If possible try to work with all model versions, but even 2 or 3 (pure python and something else should be sufficient).\n",
    "    \n",
    "\n",
    "|Parameter\t|Range or value\t        |\n",
    "|-----------|--------------:|\n",
    "|prey_birth_rate    \t|0.015 – 0.035\t|\n",
    "|predation_rate|0.0005 – 0.003 \t|\n",
    "|predator_efficiency     \t|0.001 – 0.004\t    |\n",
    "|predator_loss_rate\t    |0.04 – 0.08\t    |\n",
    "|Final time\t    |365\t    |\n",
    "|dt\t    |0.25\t    |\n",
    "\n",
    "* Note that your EMA Workbench installation includes example scripts for the different connectors. The different model objects follow a similar syntax but will need to be slightly adjusted depending on the software (e.g. to specify the NetLogo run length or the sheet name in Excel). \n",
    "\n",
    "* These model objects can be used with a replication functionality (for instance to test the effect of stochastic uncertainty in a NetLogo model), which repeats a given experiment over multiple replications. You can use a single replication in this exercise as the models are not stochastic. By default, each outcome array will then have a shape of (# experiments, # replications, # time steps). Try adapting the outcome arrays so that they can be used with the _lines_ plotting function of the Workbench, and plot the results grouped by model.\n",
    "\n",
    "* To check the graphical results, find the maximum absolute error of the time series you obtained for the _prey_ variable in the Excel, NetLogo, and Vensim/PySD models, relative to the Python function. "
   ]
  },
  {
   "cell_type": "code",
   "execution_count": 1,
   "metadata": {
    "collapsed": false,
    "jupyter": {
     "outputs_hidden": false
    },
    "scrolled": true
   },
   "outputs": [
    {
     "output_type": "stream",
     "name": "stderr",
     "text": [
      "C:\\Users\\flori\\Anaconda3\\envs\\epa1361\\lib\\site-packages\\ema_workbench\\connectors\\__init__.py:17: ImportWarning: vensim connector not available\n  warnings.warn(\"vensim connector not available\", ImportWarning)\n"
     ]
    }
   ],
   "source": [
    "import pandas as pd\n",
    "import numpy as np\n",
    "import matplotlib.pyplot as plt\n",
    "\n",
    "from ema_workbench import (Model, RealParameter, TimeSeriesOutcome, perform_experiments,\n",
    "                           ema_logging, SequentialEvaluator)\n",
    "\n",
    "from ema_workbench.connectors.netlogo import NetLogoModel\n",
    "from ema_workbench.connectors.excel import ExcelModel\n",
    "from ema_workbench.connectors.pysd_connector import PysdModel\n",
    "\n",
    "from ema_workbench.em_framework.evaluators import LHS, SOBOL, MORRIS\n",
    "\n",
    "from ema_workbench.analysis.plotting import lines, Density\n",
    "\n",
    "\n",
    "def PredPrey(prey_birth_rate=0.025, predation_rate=0.0015, predator_efficiency=0.002,\n",
    "             predator_loss_rate=0.06, initial_prey=50, initial_predators=20, dt=0.25, final_time=365, reps=1):\n",
    "\n",
    "    #Initial values\n",
    "    predators, prey, sim_time = [np.zeros((reps, int(final_time/dt)+1)) for _ in range(3)]\n",
    "    \n",
    "    for r in range(reps):\n",
    "        predators[r,0] = initial_predators\n",
    "        prey[r,0] = initial_prey\n",
    "\n",
    "        #Calculate the time series\n",
    "        for t in range(0, sim_time.shape[1]-1):\n",
    "\n",
    "            dx = (prey_birth_rate*prey[r,t]) - (predation_rate*prey[r,t]*predators[r,t])\n",
    "            dy = (predator_efficiency*predators[r,t]*prey[r,t]) - (predator_loss_rate*predators[r,t])\n",
    "\n",
    "            prey[r,t+1] = max(prey[r,t] + dx*dt, 0)\n",
    "            predators[r,t+1] = max(predators[r,t] + dy*dt, 0)\n",
    "            sim_time[r,t+1] = (t+1)*dt\n",
    "    \n",
    "    #Return outcomes\n",
    "    return {'TIME':sim_time,\n",
    "            'predators':predators,\n",
    "            'prey':prey}"
   ]
  },
  {
   "cell_type": "code",
   "execution_count": null,
   "metadata": {},
   "outputs": [],
   "source": []
  },
  {
   "cell_type": "code",
   "execution_count": 2,
   "metadata": {},
   "outputs": [],
   "source": [
    "py_model = Model('PredPreyPy', function=PredPrey)\n",
    "\n",
    "py_model.uncertainties = [RealParameter('prey_birth_rate', 0.015, 0.035),\n",
    "                       RealParameter('predation_rate', 0.0005, 0.003),\n",
    "                      RealParameter('predator_efficiency', 0.0001, 0.004),\n",
    "                      RealParameter('predator_loss_rate', 0.004, 0.08)]\n",
    "\n",
    "py_model.outcomes = [TimeSeriesOutcome('TIME'),\n",
    "                  TimeSeriesOutcome('predators'),\n",
    "                  TimeSeriesOutcome('prey')]"
   ]
  },
  {
   "cell_type": "code",
   "execution_count": 3,
   "metadata": {},
   "outputs": [],
   "source": [
    "excel_model = ExcelModel('PredPreyExcel', wd=r'./model/', model_file='PredPrey.xlsx', default_sheet = 'Sheet1')\n",
    "\n",
    "excel_model.uncertainties = [RealParameter('prey_birth_rate', 0.015, 0.035),\n",
    "                       RealParameter('predation_rate', 0.0005, 0.003),\n",
    "                      RealParameter('predator_efficiency', 0.0001, 0.004),\n",
    "                      RealParameter('predator_loss_rate', 0.004, 0.08)]\n",
    "\n",
    "excel_model.outcomes = [TimeSeriesOutcome('TIME'),\n",
    "                  TimeSeriesOutcome('predators'),\n",
    "                  TimeSeriesOutcome('prey')]"
   ]
  },
  {
   "cell_type": "code",
   "execution_count": 4,
   "metadata": {},
   "outputs": [],
   "source": [
    "netlogo_model = NetLogoModel('PredPreyNetlogo', wd=r'./model/', model_file='PredPrey.nlogo')\n",
    "netlogo_model.run_length = 1460\n",
    "netlogo_model.replications = 1\n",
    "netlogo_model.uncertainties = [RealParameter('prey_birth_rate', 0.015, 0.035),\n",
    "                       RealParameter('predation_rate', 0.0005, 0.003),\n",
    "                      RealParameter('predator_efficiency', 0.0001, 0.004),\n",
    "                      RealParameter('predator_loss_rate', 0.004, 0.08)]\n",
    "\n",
    "netlogo_model.outcomes = [TimeSeriesOutcome('TIME'),\n",
    "                  TimeSeriesOutcome('predators'),\n",
    "                  TimeSeriesOutcome('prey')]"
   ]
  },
  {
   "cell_type": "code",
   "execution_count": 5,
   "metadata": {},
   "outputs": [],
   "source": [
    "pysd_model = PysdModel('PredPreyPysd', mdl_file=r'./model/PredPrey.mdl')\n",
    "\n",
    "pysd_model.uncertainties = [RealParameter('prey_birth_rate', 0.015, 0.035),\n",
    "                       RealParameter('predation_rate', 0.0005, 0.003),\n",
    "                      RealParameter('predator_efficiency', 0.0001, 0.004),\n",
    "                      RealParameter('predator_loss_rate', 0.004, 0.08)]\n",
    "\n",
    "pysd_model.outcomes = [TimeSeriesOutcome('TIME'),\n",
    "                  TimeSeriesOutcome('predators'),\n",
    "                  TimeSeriesOutcome('prey')]"
   ]
  },
  {
   "cell_type": "code",
   "execution_count": 6,
   "metadata": {},
   "outputs": [
    {
     "output_type": "stream",
     "name": "stderr",
     "text": [
      "[MainProcess/INFO] performing 50 scenarios * 1 policies * 4 model(s) = 200 experiments\n",
      "[MainProcess/INFO] performing experiments sequentially\n",
      "[MainProcess/INFO] 20 cases completed\n",
      "[MainProcess/INFO] 40 cases completed\n",
      "[MainProcess/INFO] 60 cases completed\n",
      "[MainProcess/INFO] 80 cases completed\n",
      "[MainProcess/INFO] 100 cases completed\n",
      "[MainProcess/INFO] 120 cases completed\n",
      "[MainProcess/INFO] 140 cases completed\n",
      "[MainProcess/INFO] 160 cases completed\n",
      "[MainProcess/INFO] 180 cases completed\n",
      "[MainProcess/INFO] 200 cases completed\n",
      "[MainProcess/INFO] experiments finished\n"
     ]
    }
   ],
   "source": [
    "# we leave out netlogo model for now\n",
    "ema_logging.log_to_stderr(ema_logging.INFO)\n",
    "experiments, outcomes = perform_experiments([py_model, excel_model, pysd_model, netlogo_model],50)"
   ]
  },
  {
   "cell_type": "code",
   "execution_count": 7,
   "metadata": {},
   "outputs": [],
   "source": [
    "for i in outcomes.keys():\n",
    "    outcomes[i] = outcomes[i][:,0,:]"
   ]
  },
  {
   "cell_type": "code",
   "execution_count": 8,
   "metadata": {},
   "outputs": [],
   "source": [
    "for outcome in outcomes.keys():\n",
    "    if outcome == \"Prey\":\n",
    "        lines(experiments, outcomes, outcomes_to_show = outcome, group_by = 'model', legend=True)"
   ]
  },
  {
   "cell_type": "code",
   "execution_count": 9,
   "metadata": {},
   "outputs": [],
   "source": [
    "# merge the experiments with the outcomes so we can pairplot with seaborn\n",
    "outcomesdf = pd.DataFrame(outcomes['prey'])\n",
    "exp_outcomesdf = pd.merge(experiments,outcomesdf,left_index = True, right_index=True)"
   ]
  },
  {
   "cell_type": "code",
   "execution_count": 10,
   "metadata": {},
   "outputs": [],
   "source": [
    "err = exp_outcomesdf.drop(columns=['predation_rate', 'predator_efficiency', 'predator_loss_rate', 'prey_birth_rate']).groupby('scenario').mad()"
   ]
  },
  {
   "cell_type": "code",
   "execution_count": 11,
   "metadata": {},
   "outputs": [
    {
     "output_type": "execute_result",
     "data": {
      "text/plain": [
       "          0             1             2             3             4     \\\n",
       "scenario                                                                 \n",
       "0          0.0  5.329071e-15  0.000000e+00  5.329071e-15  1.776357e-15   \n",
       "1          0.0  0.000000e+00  0.000000e+00  0.000000e+00  0.000000e+00   \n",
       "2          0.0  0.000000e+00  0.000000e+00  0.000000e+00  0.000000e+00   \n",
       "3          0.0  0.000000e+00  0.000000e+00  0.000000e+00  0.000000e+00   \n",
       "4          0.0  1.776357e-15  1.776357e-15  0.000000e+00  0.000000e+00   \n",
       "\n",
       "                  5             6             7             8     \\\n",
       "scenario                                                           \n",
       "0         1.776357e-15  1.776357e-15  1.776357e-15  1.776357e-15   \n",
       "1         5.329071e-15  5.329071e-15  1.776357e-15  1.776357e-15   \n",
       "2         0.000000e+00  1.776357e-15  5.329071e-15  5.329071e-15   \n",
       "3         0.000000e+00  0.000000e+00  1.776357e-15  5.329071e-15   \n",
       "4         0.000000e+00  0.000000e+00  0.000000e+00  0.000000e+00   \n",
       "\n",
       "                  9     ...          1451          1452          1453  \\\n",
       "scenario                ...                                             \n",
       "0         1.776357e-15  ...  1.243450e-14  1.243450e-14  1.154632e-14   \n",
       "1         5.329071e-15  ...  3.552714e-15  3.552714e-15  7.105427e-15   \n",
       "2         5.329071e-15  ...  3.552714e-15  3.552714e-15  4.440892e-15   \n",
       "3         5.329071e-15  ...  3.730349e-14  3.730349e-14  3.730349e-14   \n",
       "4         0.000000e+00  ...  2.116363e-16  2.116363e-16  2.168404e-16   \n",
       "\n",
       "                  1454          1455          1456          1457  \\\n",
       "scenario                                                           \n",
       "0         1.154632e-14  1.154632e-14  1.243450e-14  1.243450e-14   \n",
       "1         3.552714e-15  3.552714e-15  3.552714e-15  5.329071e-15   \n",
       "2         4.440892e-15  4.440892e-15  4.440892e-15  4.440892e-15   \n",
       "3         3.819167e-14  3.819167e-14  3.819167e-14  3.819167e-14   \n",
       "4         2.168404e-16  2.168404e-16  2.133710e-16  2.185752e-16   \n",
       "\n",
       "                  1458          1459          1460  \n",
       "scenario                                            \n",
       "0         1.243450e-14  1.243450e-14  1.243450e-14  \n",
       "1         1.776357e-15  1.776357e-15  0.000000e+00  \n",
       "2         4.440892e-15  4.440892e-15  4.440892e-15  \n",
       "3         3.819167e-14  3.819167e-14  3.819167e-14  \n",
       "4         2.203099e-16  2.255141e-16  2.237793e-16  \n",
       "\n",
       "[5 rows x 1461 columns]"
      ],
      "text/html": "<div>\n<style scoped>\n    .dataframe tbody tr th:only-of-type {\n        vertical-align: middle;\n    }\n\n    .dataframe tbody tr th {\n        vertical-align: top;\n    }\n\n    .dataframe thead th {\n        text-align: right;\n    }\n</style>\n<table border=\"1\" class=\"dataframe\">\n  <thead>\n    <tr style=\"text-align: right;\">\n      <th></th>\n      <th>0</th>\n      <th>1</th>\n      <th>2</th>\n      <th>3</th>\n      <th>4</th>\n      <th>5</th>\n      <th>6</th>\n      <th>7</th>\n      <th>8</th>\n      <th>9</th>\n      <th>...</th>\n      <th>1451</th>\n      <th>1452</th>\n      <th>1453</th>\n      <th>1454</th>\n      <th>1455</th>\n      <th>1456</th>\n      <th>1457</th>\n      <th>1458</th>\n      <th>1459</th>\n      <th>1460</th>\n    </tr>\n    <tr>\n      <th>scenario</th>\n      <th></th>\n      <th></th>\n      <th></th>\n      <th></th>\n      <th></th>\n      <th></th>\n      <th></th>\n      <th></th>\n      <th></th>\n      <th></th>\n      <th></th>\n      <th></th>\n      <th></th>\n      <th></th>\n      <th></th>\n      <th></th>\n      <th></th>\n      <th></th>\n      <th></th>\n      <th></th>\n      <th></th>\n    </tr>\n  </thead>\n  <tbody>\n    <tr>\n      <th>0</th>\n      <td>0.0</td>\n      <td>5.329071e-15</td>\n      <td>0.000000e+00</td>\n      <td>5.329071e-15</td>\n      <td>1.776357e-15</td>\n      <td>1.776357e-15</td>\n      <td>1.776357e-15</td>\n      <td>1.776357e-15</td>\n      <td>1.776357e-15</td>\n      <td>1.776357e-15</td>\n      <td>...</td>\n      <td>1.243450e-14</td>\n      <td>1.243450e-14</td>\n      <td>1.154632e-14</td>\n      <td>1.154632e-14</td>\n      <td>1.154632e-14</td>\n      <td>1.243450e-14</td>\n      <td>1.243450e-14</td>\n      <td>1.243450e-14</td>\n      <td>1.243450e-14</td>\n      <td>1.243450e-14</td>\n    </tr>\n    <tr>\n      <th>1</th>\n      <td>0.0</td>\n      <td>0.000000e+00</td>\n      <td>0.000000e+00</td>\n      <td>0.000000e+00</td>\n      <td>0.000000e+00</td>\n      <td>5.329071e-15</td>\n      <td>5.329071e-15</td>\n      <td>1.776357e-15</td>\n      <td>1.776357e-15</td>\n      <td>5.329071e-15</td>\n      <td>...</td>\n      <td>3.552714e-15</td>\n      <td>3.552714e-15</td>\n      <td>7.105427e-15</td>\n      <td>3.552714e-15</td>\n      <td>3.552714e-15</td>\n      <td>3.552714e-15</td>\n      <td>5.329071e-15</td>\n      <td>1.776357e-15</td>\n      <td>1.776357e-15</td>\n      <td>0.000000e+00</td>\n    </tr>\n    <tr>\n      <th>2</th>\n      <td>0.0</td>\n      <td>0.000000e+00</td>\n      <td>0.000000e+00</td>\n      <td>0.000000e+00</td>\n      <td>0.000000e+00</td>\n      <td>0.000000e+00</td>\n      <td>1.776357e-15</td>\n      <td>5.329071e-15</td>\n      <td>5.329071e-15</td>\n      <td>5.329071e-15</td>\n      <td>...</td>\n      <td>3.552714e-15</td>\n      <td>3.552714e-15</td>\n      <td>4.440892e-15</td>\n      <td>4.440892e-15</td>\n      <td>4.440892e-15</td>\n      <td>4.440892e-15</td>\n      <td>4.440892e-15</td>\n      <td>4.440892e-15</td>\n      <td>4.440892e-15</td>\n      <td>4.440892e-15</td>\n    </tr>\n    <tr>\n      <th>3</th>\n      <td>0.0</td>\n      <td>0.000000e+00</td>\n      <td>0.000000e+00</td>\n      <td>0.000000e+00</td>\n      <td>0.000000e+00</td>\n      <td>0.000000e+00</td>\n      <td>0.000000e+00</td>\n      <td>1.776357e-15</td>\n      <td>5.329071e-15</td>\n      <td>5.329071e-15</td>\n      <td>...</td>\n      <td>3.730349e-14</td>\n      <td>3.730349e-14</td>\n      <td>3.730349e-14</td>\n      <td>3.819167e-14</td>\n      <td>3.819167e-14</td>\n      <td>3.819167e-14</td>\n      <td>3.819167e-14</td>\n      <td>3.819167e-14</td>\n      <td>3.819167e-14</td>\n      <td>3.819167e-14</td>\n    </tr>\n    <tr>\n      <th>4</th>\n      <td>0.0</td>\n      <td>1.776357e-15</td>\n      <td>1.776357e-15</td>\n      <td>0.000000e+00</td>\n      <td>0.000000e+00</td>\n      <td>0.000000e+00</td>\n      <td>0.000000e+00</td>\n      <td>0.000000e+00</td>\n      <td>0.000000e+00</td>\n      <td>0.000000e+00</td>\n      <td>...</td>\n      <td>2.116363e-16</td>\n      <td>2.116363e-16</td>\n      <td>2.168404e-16</td>\n      <td>2.168404e-16</td>\n      <td>2.168404e-16</td>\n      <td>2.133710e-16</td>\n      <td>2.185752e-16</td>\n      <td>2.203099e-16</td>\n      <td>2.255141e-16</td>\n      <td>2.237793e-16</td>\n    </tr>\n  </tbody>\n</table>\n<p>5 rows × 1461 columns</p>\n</div>"
     },
     "metadata": {},
     "execution_count": 11
    }
   ],
   "source": [
    "err.head()"
   ]
  },
  {
   "cell_type": "code",
   "execution_count": 12,
   "metadata": {},
   "outputs": [
    {
     "output_type": "execute_result",
     "data": {
      "text/plain": [
       "     predation_rate  predator_efficiency  predator_loss_rate  prey_birth_rate  \\\n",
       "0          0.002289             0.002082            0.069115         0.024659   \n",
       "1          0.001175             0.001587            0.039070         0.031074   \n",
       "2          0.001036             0.001377            0.047015         0.017815   \n",
       "3          0.001425             0.003186            0.057611         0.023861   \n",
       "4          0.001897             0.002338            0.013624         0.018223   \n",
       "..              ...                  ...                 ...              ...   \n",
       "195        0.002644             0.001450            0.045923         0.034264   \n",
       "196        0.001232             0.003100            0.018405         0.031574   \n",
       "197        0.000722             0.003379            0.008153         0.028275   \n",
       "198        0.000583             0.001066            0.036059         0.025084   \n",
       "199        0.001090             0.003685            0.054500         0.027367   \n",
       "\n",
       "    scenario policy            model     0          1          2  ...  \\\n",
       "0          0   None       PredPreyPy  50.0  49.736070  49.468558  ...   \n",
       "1          1   None       PredPreyPy  50.0  50.094780  50.186778  ...   \n",
       "2          2   None       PredPreyPy  50.0  49.963610  49.925833  ...   \n",
       "3          3   None       PredPreyPy  50.0  49.941990  49.875002  ...   \n",
       "4          4   None       PredPreyPy  50.0  49.753497  49.496023  ...   \n",
       "..       ...    ...              ...   ...        ...        ...  ...   \n",
       "195       45   None  PredPreyNetlogo  50.0  49.767250  49.531208  ...   \n",
       "196       46   None  PredPreyNetlogo  50.0  50.086574  50.162760  ...   \n",
       "197       47   None  PredPreyNetlogo  50.0  50.173040  50.339400  ...   \n",
       "198       48   None  PredPreyNetlogo  50.0  50.167703  50.335337  ...   \n",
       "199       49   None  PredPreyNetlogo  50.0  50.069585  50.130416  ...   \n",
       "\n",
       "             1451          1452          1453          1454          1455  \\\n",
       "0    1.683573e+01  1.679069e+01  1.674705e+01  1.670477e+01  1.666384e+01   \n",
       "1    3.548005e+01  3.565843e+01  3.583729e+01  3.601662e+01  3.619640e+01   \n",
       "2    2.855131e+01  2.861696e+01  2.868288e+01  2.874907e+01  2.881553e+01   \n",
       "3    1.790134e+01  1.800274e+01  1.810472e+01  1.820727e+01  1.831041e+01   \n",
       "4    4.095138e-02  4.112179e-02  4.129296e-02  4.146491e-02  4.163762e-02   \n",
       "..            ...           ...           ...           ...           ...   \n",
       "195  1.927255e+01  1.915456e+01  1.903856e+01  1.892453e+01  1.881244e+01   \n",
       "196  2.519716e+00  2.539258e+00  2.558953e+00  2.578802e+00  2.598805e+00   \n",
       "197  2.552642e-08  2.560558e-08  2.568518e-08  2.576525e-08  2.584577e-08   \n",
       "198  1.648439e+01  1.652254e+01  1.656108e+01  1.660002e+01  1.663934e+01   \n",
       "199  9.084247e+00  9.144341e+00  9.204844e+00  9.265757e+00  9.327085e+00   \n",
       "\n",
       "             1456          1457          1458          1459          1460  \n",
       "0    1.662424e+01  1.658596e+01  1.654898e+01  1.651328e+01  1.647885e+01  \n",
       "1    3.637662e+01  3.655727e+01  3.673835e+01  3.691983e+01  3.710170e+01  \n",
       "2    2.888226e+01  2.894925e+01  2.901651e+01  2.908404e+01  2.915183e+01  \n",
       "3    1.841413e+01  1.851844e+01  1.862333e+01  1.872882e+01  1.883491e+01  \n",
       "4    4.181111e-02  4.198537e-02  4.216042e-02  4.233625e-02  4.251287e-02  \n",
       "..            ...           ...           ...           ...           ...  \n",
       "195  1.870227e+01  1.859400e+01  1.848762e+01  1.838310e+01  1.828041e+01  \n",
       "196  2.618965e+00  2.639282e+00  2.659757e+00  2.680392e+00  2.701188e+00  \n",
       "197  2.592675e-08  2.600819e-08  2.609009e-08  2.617247e-08  2.625531e-08  \n",
       "198  1.667906e+01  1.671917e+01  1.675966e+01  1.680056e+01  1.684184e+01  \n",
       "199  9.388828e+00  9.450991e+00  9.513576e+00  9.576586e+00  9.640023e+00  \n",
       "\n",
       "[200 rows x 1468 columns]"
      ],
      "text/html": "<div>\n<style scoped>\n    .dataframe tbody tr th:only-of-type {\n        vertical-align: middle;\n    }\n\n    .dataframe tbody tr th {\n        vertical-align: top;\n    }\n\n    .dataframe thead th {\n        text-align: right;\n    }\n</style>\n<table border=\"1\" class=\"dataframe\">\n  <thead>\n    <tr style=\"text-align: right;\">\n      <th></th>\n      <th>predation_rate</th>\n      <th>predator_efficiency</th>\n      <th>predator_loss_rate</th>\n      <th>prey_birth_rate</th>\n      <th>scenario</th>\n      <th>policy</th>\n      <th>model</th>\n      <th>0</th>\n      <th>1</th>\n      <th>2</th>\n      <th>...</th>\n      <th>1451</th>\n      <th>1452</th>\n      <th>1453</th>\n      <th>1454</th>\n      <th>1455</th>\n      <th>1456</th>\n      <th>1457</th>\n      <th>1458</th>\n      <th>1459</th>\n      <th>1460</th>\n    </tr>\n  </thead>\n  <tbody>\n    <tr>\n      <th>0</th>\n      <td>0.002289</td>\n      <td>0.002082</td>\n      <td>0.069115</td>\n      <td>0.024659</td>\n      <td>0</td>\n      <td>None</td>\n      <td>PredPreyPy</td>\n      <td>50.0</td>\n      <td>49.736070</td>\n      <td>49.468558</td>\n      <td>...</td>\n      <td>1.683573e+01</td>\n      <td>1.679069e+01</td>\n      <td>1.674705e+01</td>\n      <td>1.670477e+01</td>\n      <td>1.666384e+01</td>\n      <td>1.662424e+01</td>\n      <td>1.658596e+01</td>\n      <td>1.654898e+01</td>\n      <td>1.651328e+01</td>\n      <td>1.647885e+01</td>\n    </tr>\n    <tr>\n      <th>1</th>\n      <td>0.001175</td>\n      <td>0.001587</td>\n      <td>0.039070</td>\n      <td>0.031074</td>\n      <td>1</td>\n      <td>None</td>\n      <td>PredPreyPy</td>\n      <td>50.0</td>\n      <td>50.094780</td>\n      <td>50.186778</td>\n      <td>...</td>\n      <td>3.548005e+01</td>\n      <td>3.565843e+01</td>\n      <td>3.583729e+01</td>\n      <td>3.601662e+01</td>\n      <td>3.619640e+01</td>\n      <td>3.637662e+01</td>\n      <td>3.655727e+01</td>\n      <td>3.673835e+01</td>\n      <td>3.691983e+01</td>\n      <td>3.710170e+01</td>\n    </tr>\n    <tr>\n      <th>2</th>\n      <td>0.001036</td>\n      <td>0.001377</td>\n      <td>0.047015</td>\n      <td>0.017815</td>\n      <td>2</td>\n      <td>None</td>\n      <td>PredPreyPy</td>\n      <td>50.0</td>\n      <td>49.963610</td>\n      <td>49.925833</td>\n      <td>...</td>\n      <td>2.855131e+01</td>\n      <td>2.861696e+01</td>\n      <td>2.868288e+01</td>\n      <td>2.874907e+01</td>\n      <td>2.881553e+01</td>\n      <td>2.888226e+01</td>\n      <td>2.894925e+01</td>\n      <td>2.901651e+01</td>\n      <td>2.908404e+01</td>\n      <td>2.915183e+01</td>\n    </tr>\n    <tr>\n      <th>3</th>\n      <td>0.001425</td>\n      <td>0.003186</td>\n      <td>0.057611</td>\n      <td>0.023861</td>\n      <td>3</td>\n      <td>None</td>\n      <td>PredPreyPy</td>\n      <td>50.0</td>\n      <td>49.941990</td>\n      <td>49.875002</td>\n      <td>...</td>\n      <td>1.790134e+01</td>\n      <td>1.800274e+01</td>\n      <td>1.810472e+01</td>\n      <td>1.820727e+01</td>\n      <td>1.831041e+01</td>\n      <td>1.841413e+01</td>\n      <td>1.851844e+01</td>\n      <td>1.862333e+01</td>\n      <td>1.872882e+01</td>\n      <td>1.883491e+01</td>\n    </tr>\n    <tr>\n      <th>4</th>\n      <td>0.001897</td>\n      <td>0.002338</td>\n      <td>0.013624</td>\n      <td>0.018223</td>\n      <td>4</td>\n      <td>None</td>\n      <td>PredPreyPy</td>\n      <td>50.0</td>\n      <td>49.753497</td>\n      <td>49.496023</td>\n      <td>...</td>\n      <td>4.095138e-02</td>\n      <td>4.112179e-02</td>\n      <td>4.129296e-02</td>\n      <td>4.146491e-02</td>\n      <td>4.163762e-02</td>\n      <td>4.181111e-02</td>\n      <td>4.198537e-02</td>\n      <td>4.216042e-02</td>\n      <td>4.233625e-02</td>\n      <td>4.251287e-02</td>\n    </tr>\n    <tr>\n      <th>...</th>\n      <td>...</td>\n      <td>...</td>\n      <td>...</td>\n      <td>...</td>\n      <td>...</td>\n      <td>...</td>\n      <td>...</td>\n      <td>...</td>\n      <td>...</td>\n      <td>...</td>\n      <td>...</td>\n      <td>...</td>\n      <td>...</td>\n      <td>...</td>\n      <td>...</td>\n      <td>...</td>\n      <td>...</td>\n      <td>...</td>\n      <td>...</td>\n      <td>...</td>\n      <td>...</td>\n    </tr>\n    <tr>\n      <th>195</th>\n      <td>0.002644</td>\n      <td>0.001450</td>\n      <td>0.045923</td>\n      <td>0.034264</td>\n      <td>45</td>\n      <td>None</td>\n      <td>PredPreyNetlogo</td>\n      <td>50.0</td>\n      <td>49.767250</td>\n      <td>49.531208</td>\n      <td>...</td>\n      <td>1.927255e+01</td>\n      <td>1.915456e+01</td>\n      <td>1.903856e+01</td>\n      <td>1.892453e+01</td>\n      <td>1.881244e+01</td>\n      <td>1.870227e+01</td>\n      <td>1.859400e+01</td>\n      <td>1.848762e+01</td>\n      <td>1.838310e+01</td>\n      <td>1.828041e+01</td>\n    </tr>\n    <tr>\n      <th>196</th>\n      <td>0.001232</td>\n      <td>0.003100</td>\n      <td>0.018405</td>\n      <td>0.031574</td>\n      <td>46</td>\n      <td>None</td>\n      <td>PredPreyNetlogo</td>\n      <td>50.0</td>\n      <td>50.086574</td>\n      <td>50.162760</td>\n      <td>...</td>\n      <td>2.519716e+00</td>\n      <td>2.539258e+00</td>\n      <td>2.558953e+00</td>\n      <td>2.578802e+00</td>\n      <td>2.598805e+00</td>\n      <td>2.618965e+00</td>\n      <td>2.639282e+00</td>\n      <td>2.659757e+00</td>\n      <td>2.680392e+00</td>\n      <td>2.701188e+00</td>\n    </tr>\n    <tr>\n      <th>197</th>\n      <td>0.000722</td>\n      <td>0.003379</td>\n      <td>0.008153</td>\n      <td>0.028275</td>\n      <td>47</td>\n      <td>None</td>\n      <td>PredPreyNetlogo</td>\n      <td>50.0</td>\n      <td>50.173040</td>\n      <td>50.339400</td>\n      <td>...</td>\n      <td>2.552642e-08</td>\n      <td>2.560558e-08</td>\n      <td>2.568518e-08</td>\n      <td>2.576525e-08</td>\n      <td>2.584577e-08</td>\n      <td>2.592675e-08</td>\n      <td>2.600819e-08</td>\n      <td>2.609009e-08</td>\n      <td>2.617247e-08</td>\n      <td>2.625531e-08</td>\n    </tr>\n    <tr>\n      <th>198</th>\n      <td>0.000583</td>\n      <td>0.001066</td>\n      <td>0.036059</td>\n      <td>0.025084</td>\n      <td>48</td>\n      <td>None</td>\n      <td>PredPreyNetlogo</td>\n      <td>50.0</td>\n      <td>50.167703</td>\n      <td>50.335337</td>\n      <td>...</td>\n      <td>1.648439e+01</td>\n      <td>1.652254e+01</td>\n      <td>1.656108e+01</td>\n      <td>1.660002e+01</td>\n      <td>1.663934e+01</td>\n      <td>1.667906e+01</td>\n      <td>1.671917e+01</td>\n      <td>1.675966e+01</td>\n      <td>1.680056e+01</td>\n      <td>1.684184e+01</td>\n    </tr>\n    <tr>\n      <th>199</th>\n      <td>0.001090</td>\n      <td>0.003685</td>\n      <td>0.054500</td>\n      <td>0.027367</td>\n      <td>49</td>\n      <td>None</td>\n      <td>PredPreyNetlogo</td>\n      <td>50.0</td>\n      <td>50.069585</td>\n      <td>50.130416</td>\n      <td>...</td>\n      <td>9.084247e+00</td>\n      <td>9.144341e+00</td>\n      <td>9.204844e+00</td>\n      <td>9.265757e+00</td>\n      <td>9.327085e+00</td>\n      <td>9.388828e+00</td>\n      <td>9.450991e+00</td>\n      <td>9.513576e+00</td>\n      <td>9.576586e+00</td>\n      <td>9.640023e+00</td>\n    </tr>\n  </tbody>\n</table>\n<p>200 rows × 1468 columns</p>\n</div>"
     },
     "metadata": {},
     "execution_count": 12
    }
   ],
   "source": [
    "exp_outcomesdf"
   ]
  },
  {
   "cell_type": "code",
   "execution_count": null,
   "metadata": {},
   "outputs": [],
   "source": []
  }
 ],
 "metadata": {
  "kernelspec": {
   "name": "python394jvsc74a57bd0f7a45eb9dacf01938bb3153ad27143b0153c806e80a152e5c58d68aa3eac7a2d",
   "display_name": "Python 3.9.4 64-bit ('epa1361': conda)"
  },
  "language_info": {
   "codemirror_mode": {
    "name": "ipython",
    "version": 3
   },
   "file_extension": ".py",
   "mimetype": "text/x-python",
   "name": "python",
   "nbconvert_exporter": "python",
   "pygments_lexer": "ipython3",
   "version": "3.9.4"
  }
 },
 "nbformat": 4,
 "nbformat_minor": 4
}