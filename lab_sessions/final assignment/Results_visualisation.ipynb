{
 "cells": [
  {
   "cell_type": "code",
   "execution_count": 3,
   "metadata": {},
   "outputs": [],
   "source": [
    "import pandas as pd\n",
    "import numpy as np\n",
    "import matplotlib.pyplot as plt\n",
    "from ema_workbench.analysis import parcoords\n",
    "from ema_workbench.util.utilities import load_results"
   ]
  },
  {
   "cell_type": "code",
   "execution_count": 4,
   "metadata": {},
   "outputs": [],
   "source": [
    "# load results\n",
    "experiment, result = load_results('uncertainty_rerun.tar.gz')\n",
    "results = pd.read_csv('03_MORO_results.csv')\n",
    "inputs = results.iloc[:,:32]\n",
    "outcomes = results.iloc[:,32:]"
   ]
  },
  {
   "cell_type": "code",
   "execution_count": 5,
   "metadata": {},
   "outputs": [],
   "source": [
    "outcomes = outcomes.rename(columns={\"Expected_Damage\":\"Expected Damage\", \"Dike_Costs\":\"Cost for dike heigthening\",\"RfR_Costs\":\"Cost for Room for the River\", \"Evacuation_Costs\":\"Cost of Evacuation\", \"Number_of_Deaths\":\"Expected number of deaths\", \"wl\":\"Minimum Waterlevel\"})"
   ]
  },
  {
   "cell_type": "code",
   "execution_count": 6,
   "metadata": {},
   "outputs": [
    {
     "data": {
      "image/png": "[encoded data removed]",
      "text/plain": [
       "<Figure size 432x288 with 5 Axes>"
      ]
     },
     "metadata": {},
     "output_type": "display_data"
    }
   ],
   "source": [
    "limits = parcoords.get_limits(outcomes)\n",
    "axes = parcoords.ParallelAxes(limits)\n",
    "axes.plot(outcomes)\n",
    "plt.show()"
   ]
  },
  {
   "cell_type": "code",
   "execution_count": null,
   "metadata": {},
   "outputs": [],
   "source": []
  },
  {
   "cell_type": "code",
   "execution_count": 7,
   "metadata": {},
   "outputs": [],
   "source": [
    "results_pol1 = pd.DataFrame()\n",
    "results_pol2 = pd.DataFrame()\n",
    "results_pol1['Expected Annual Damage'] = result['Expected Annual Damage'][:1000]\n",
    "results_pol2['Expected Annual Damage'] = result['Expected Annual Damage'][1000:]\n",
    "results_pol1['Dike Investment Costs'] = result['Dike Investment Costs'][:1000]\n",
    "results_pol2['Dike Investment Costs'] = result['Dike Investment Costs'][1000:]\n",
    "results_pol1['RfR Investment Costs'] = result['RfR Investment Costs'][:1000]\n",
    "results_pol2['RfR Investment Costs'] = result['RfR Investment Costs'][1000:]\n",
    "results_pol1['Evacuation Costs'] = result['Evacuation Costs'][:1000]\n",
    "results_pol2['Evacuation Costs'] = result['Evacuation Costs'][1000:]\n",
    "results_pol1['Expected Number of Deaths'] = result['Expected Number of Deaths'][:1000]\n",
    "results_pol2['Expected Number of Deaths'] = result['Expected Number of Deaths'][1000:]\n",
    "results_pol1['Minimum water level full network'] = result['Minimum water level full network'][:1000]\n",
    "results_pol2['Minimum water level full network'] = result['Minimum water level full network'][1000:]\n",
    "\n",
    "objectives = ['Expected Annual Damage', 'Dike Investment Costs','RfR Investment Costs','Evacuation Costs',\n",
    "              'Expected Number of Deaths','Minimum water level full network']"
   ]
  },
  {
   "cell_type": "code",
   "execution_count": 10,
   "metadata": {},
   "outputs": [],
   "source": [
    "# Robustness metrics\n",
    "def hurwitz(data,column_names,alpha=0):\n",
    "    '''weighs off the best and worst payoffs'''\n",
    "    results = {}\n",
    "    \n",
    "    for column_name in column_names:\n",
    "        Max_value = data[column_name].max()\n",
    "        Min_value = data[column_name].min()\n",
    "\n",
    "        #calculate hurwitz coefficient as described in Arrow (1972)\n",
    "        hurwitz_coef = alpha * Max_value + (1-alpha) * Min_value\n",
    "        results[column_name] = hurwitz_coef\n",
    "    \n",
    "    \n",
    "    return results\n",
    "\n",
    "def mean_variance(data,column_names):\n",
    "    '''for maximization this is defined as the mean divided by the standard deviation (Kwakkel et al, 2019)'''\n",
    "    results = {}\n",
    "    \n",
    "    for column_name in column_names:\n",
    "        mean_value = data[column_name].mean()\n",
    "        std_value = data[column_name].std()\n",
    "        if abs(std_value) < 0.001:\n",
    "            mv_coef = 0\n",
    "        else:\n",
    "            mv_coef = mean_value/std_value\n",
    "        results[column_name] = mv_coef\n",
    "    \n",
    "    return results\n",
    "\n",
    "def quartile_skewedness(data,column_names):\n",
    "    '''returns the quartile that contains the most observations'''\n",
    "    results = {}\n",
    "    Values = {}\n",
    "    for column_name in column_names:\n",
    "        #place all results in four equally spaced bins\n",
    "        data['MyQuantileBins'] =  pd.cut(data[column_name], 4)\n",
    "        values = data['MyQuantileBins'].value_counts()\n",
    "        Values[column_name] = values\n",
    "        #determine which quartile (bin) is overrepresented (contains the most values)\n",
    "        for i in range(3):\n",
    "            if max(values) == values[i]:\n",
    "                #save the quartile and the percentage of values it contains in a dictionary\n",
    "                results[column_name] = (i+1,(values[i]/values.sum()))    \n",
    "    return results, Values"
   ]
  },
  {
   "cell_type": "code",
   "execution_count": 22,
   "metadata": {},
   "outputs": [
    {
     "data": {
      "text/plain": [
       "{'Expected Annual Damage': 0.0,\n",
       " 'Dike Investment Costs': 746831863.6008538,\n",
       " 'RfR Investment Costs': 1635000000.0,\n",
       " 'Evacuation Costs': 0.0,\n",
       " 'Expected Number of Deaths': 0.0,\n",
       " 'Minimum water level full network': 4.418353787064368}"
      ]
     },
     "execution_count": 22,
     "metadata": {},
     "output_type": "execute_result"
    }
   ],
   "source": [
    "pol1dictHur = hurwitz(results_pol1,objectives)\n",
    "pol1dictHur"
   ]
  },
  {
   "cell_type": "code",
   "execution_count": 23,
   "metadata": {},
   "outputs": [
    {
     "data": {
      "text/plain": [
       "{'Expected Annual Damage': 0.0,\n",
       " 'Dike Investment Costs': 822714507.6447107,\n",
       " 'RfR Investment Costs': 953000000.0,\n",
       " 'Evacuation Costs': 0.0,\n",
       " 'Expected Number of Deaths': 0.0,\n",
       " 'Minimum water level full network': 4.538353787064368}"
      ]
     },
     "execution_count": 23,
     "metadata": {},
     "output_type": "execute_result"
    }
   ],
   "source": [
    "pol2dictHur = hurwitz(results_pol2,objectives)\n",
    "pol2dictHur"
   ]
  },
  {
   "cell_type": "code",
   "execution_count": 25,
   "metadata": {},
   "outputs": [
    {
     "data": {
      "text/plain": [
       "{'Expected Annual Damage': 0.06149643929027182,\n",
       " 'Dike Investment Costs': 0,\n",
       " 'RfR Investment Costs': 0,\n",
       " 'Evacuation Costs': 0.07505424864173904,\n",
       " 'Expected Number of Deaths': 0,\n",
       " 'Minimum water level full network': 27.26451664778911}"
      ]
     },
     "execution_count": 25,
     "metadata": {},
     "output_type": "execute_result"
    }
   ],
   "source": [
    "pol1dictMv = mean_variance(results_pol1,objectives)\n",
    "pol1dictMv"
   ]
  },
  {
   "cell_type": "code",
   "execution_count": 26,
   "metadata": {},
   "outputs": [
    {
     "data": {
      "text/plain": [
       "{'Expected Annual Damage': 0.13324424513365463,\n",
       " 'Dike Investment Costs': 0,\n",
       " 'RfR Investment Costs': 0,\n",
       " 'Evacuation Costs': 0.12799874011050041,\n",
       " 'Expected Number of Deaths': 0.13062213239645204,\n",
       " 'Minimum water level full network': 27.99570142583141}"
      ]
     },
     "execution_count": 26,
     "metadata": {},
     "output_type": "execute_result"
    }
   ],
   "source": [
    "pol2dictMv = mean_variance(results_pol2,objectives)\n",
    "pol2dictMv"
   ]
  },
  {
   "cell_type": "code",
   "execution_count": 20,
   "metadata": {},
   "outputs": [
    {
     "data": {
      "text/plain": [
       "{'Expected Annual Damage': 0.06149643929027182,\n",
       " 'Dike Investment Costs': 0,\n",
       " 'RfR Investment Costs': 0,\n",
       " 'Evacuation Costs': 0.07505424864173904,\n",
       " 'Expected Number of Deaths': 0,\n",
       " 'Minimum water level full network': 27.26451664778911}"
      ]
     },
     "execution_count": 20,
     "metadata": {},
     "output_type": "execute_result"
    }
   ],
   "source": [
    "pol1dictQs = quartile_skewedness(results_pol1,objectives)\n",
    "pol1dictQs"
   ]
  },
  {
   "cell_type": "code",
   "execution_count": 16,
   "metadata": {},
   "outputs": [
    {
     "data": {
      "text/plain": [
       "{'Expected Annual Damage': (-45294.16, 11323540.092]       991\n",
       " (11323540.092, 22647080.184]      5\n",
       " (33970620.276, 45294160.368]      2\n",
       " (22647080.184, 33970620.276]      2\n",
       " Name: MyQuantileBins, dtype: int64,\n",
       " 'Dike Investment Costs': (822303150.391, 822714507.645]    1000\n",
       " (823125864.899, 823537222.152]       0\n",
       " (822714507.645, 823125864.899]       0\n",
       " (821891793.137, 822303150.391]       0\n",
       " Name: MyQuantileBins, dtype: int64,\n",
       " 'RfR Investment Costs': (952523500.0, 953000000.0]    1000\n",
       " (953476500.0, 953953000.0]       0\n",
       " (953000000.0, 953476500.0]       0\n",
       " (952047000.0, 952523500.0]       0\n",
       " Name: MyQuantileBins, dtype: int64,\n",
       " 'Evacuation Costs': (-1.535, 383.855]       990\n",
       " (383.855, 767.71]         6\n",
       " (1151.565, 1535.419]      3\n",
       " (767.71, 1151.565]        1\n",
       " Name: MyQuantileBins, dtype: int64,\n",
       " 'Expected Number of Deaths': (-1.67e-05, 0.00417]    990\n",
       " (0.00417, 0.00833]        6\n",
       " (0.0125, 0.0167]          3\n",
       " (0.00833, 0.0125]         1\n",
       " Name: MyQuantileBins, dtype: int64,\n",
       " 'Minimum water level full network': (4.537, 4.783]    894\n",
       " (4.783, 5.028]     52\n",
       " (5.028, 5.273]     38\n",
       " (5.273, 5.518]     16\n",
       " Name: MyQuantileBins, dtype: int64}"
      ]
     },
     "execution_count": 16,
     "metadata": {},
     "output_type": "execute_result"
    }
   ],
   "source": [
    "pol2dictQs, pol2dictQsval = quartile_skewedness(results_pol2,objectives)\n",
    "pol2dictQsval"
   ]
  },
  {
   "cell_type": "code",
   "execution_count": 19,
   "metadata": {},
   "outputs": [
    {
     "data": {
      "text/plain": [
       "(array([0, 1, 2, 3]),\n",
       " [Text(0, 0, '(4.537, 4.783]'),\n",
       "  Text(1, 0, '(4.783, 5.028]'),\n",
       "  Text(2, 0, '(5.028, 5.273]'),\n",
       "  Text(3, 0, '(5.273, 5.518]')])"
      ]
     },
     "execution_count": 19,
     "metadata": {},
     "output_type": "execute_result"
    },
    {
     "data": {
      "image/png": "[encoded data removed]",
      "text/plain": [
       "<Figure size 432x288 with 1 Axes>"
      ]
     },
     "metadata": {},
     "output_type": "display_data"
    }
   ],
   "source": [
    "pol2dictQsval['Minimum water level full network'].plot(kind='bar')\n",
    "plt.xticks(rotation = 90)"
   ]
  },
  {
   "cell_type": "code",
   "execution_count": null,
   "metadata": {},
   "outputs": [],
   "source": []
  }
 ],
 "metadata": {
  "kernelspec": {
   "display_name": "Python 3",
   "language": "python",
   "name": "python3"
  },
  "language_info": {
   "codemirror_mode": {
    "name": "ipython",
    "version": 3
   },
   "file_extension": ".py",
   "mimetype": "text/x-python",
   "name": "python",
   "nbconvert_exporter": "python",
   "pygments_lexer": "ipython3",
   "version": "3.7.8"
  }
 },
 "nbformat": 4,
 "nbformat_minor": 5
}
