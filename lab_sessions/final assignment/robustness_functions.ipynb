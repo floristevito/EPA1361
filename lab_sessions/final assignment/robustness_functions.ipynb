{
 "cells": [
  {
   "cell_type": "code",
   "execution_count": 1,
   "metadata": {},
   "outputs": [],
   "source": [
    "import pandas as pd\n",
    "import numpy as np"
   ]
  },
  {
   "cell_type": "code",
   "execution_count": 2,
   "metadata": {},
   "outputs": [],
   "source": [
    "def hurwitz(data,column_names,alpha=0):\n",
    "    '''weighs off the best and worst payoffs'''\n",
    "    results = {}\n",
    "    \n",
    "    for column_name in column_names:\n",
    "        Max_value = data[column_name].max()\n",
    "        Min_value = data[column_name].min()\n",
    "\n",
    "        hurwitz_coef = alpha * Max_value + (1-alpha) * Min_value\n",
    "        results[column_name] = hurwitz_coef\n",
    "    \n",
    "    return results"
   ]
  },
  {
   "cell_type": "code",
   "execution_count": 3,
   "metadata": {},
   "outputs": [],
   "source": [
    "def mean_variance(data,column_name):\n",
    "    '''for maximization this is defined as the mean divided by the standard deviation (Kwakkel et al, 2019)'''\n",
    "    results = {}\n",
    "    for column_name in column_names:\n",
    "        mean_value = data[column_name].mean()\n",
    "        std_value = data[column_name].std()\n",
    "    \n",
    "        mv_coef = mean_value/std_value\n",
    "        results[column_name]\n",
    "    \n",
    "    return results"
   ]
  },
  {
   "cell_type": "code",
   "execution_count": 4,
   "metadata": {},
   "outputs": [],
   "source": [
    "def quartile_skewedness(data,column_names):\n",
    "    '''returns the quartile that contains the most observations'''\n",
    "    results = {}\n",
    "    for column_name in column_names:\n",
    "        data['MyQuantileBins'] =  pd.qcut(data[column_name], 4)\n",
    "        values = data['MyQuantileBins'].value_counts()\n",
    "        for i in range(3):\n",
    "            if max(values) == values[i]:\n",
    "                results[column_name] = (i+1,(values[i]/values.sum()))    \n",
    "    return results   "
   ]
  },
  {
   "cell_type": "code",
   "execution_count": null,
   "metadata": {},
   "outputs": [],
   "source": []
  }
 ],
 "metadata": {
  "kernelspec": {
   "display_name": "Python 3",
   "language": "python",
   "name": "python3"
  },
  "language_info": {
   "codemirror_mode": {
    "name": "ipython",
    "version": 3
   },
   "file_extension": ".py",
   "mimetype": "text/x-python",
   "name": "python",
   "nbconvert_exporter": "python",
   "pygments_lexer": "ipython3",
   "version": "3.8.5"
  }
 },
 "nbformat": 4,
 "nbformat_minor": 4
}
