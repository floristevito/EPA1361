{
 "cells": [
  {
   "cell_type": "code",
   "execution_count": 1,
   "metadata": {},
   "outputs": [],
   "source": [
    "import pandas as pd\n",
    "import numpy as np\n"
   ]
  },
  {
   "cell_type": "code",
   "execution_count": 41,
   "metadata": {},
   "outputs": [],
   "source": [
    "def hurwitz(data,column_name,alpha=0):\n",
    "    Max_value = data[column_name].max()\n",
    "    Min_value = data[column_name].min()\n",
    "    \n",
    "    hurwitz_coef = alpha * Max_value + (1-alpha) * Min_value\n",
    "    \n",
    "    return hurwitz_coef"
   ]
  },
  {
   "cell_type": "code",
   "execution_count": 42,
   "metadata": {},
   "outputs": [],
   "source": [
    "def mean_variance(data,column_name):\n",
    "    return data[column_name].mean(), data[column_name].var()"
   ]
  },
  {
   "cell_type": "code",
   "execution_count": 44,
   "metadata": {},
   "outputs": [],
   "source": [
    "def quartile_skewedness(data,column_names):\n",
    "    '''returns the quartile that contains the most observations'''\n",
    "    results = {}\n",
    "    for column_name in column_names:\n",
    "        data['MyQuantileBins'] =  pd.qcut(data[column_name], 4)\n",
    "        values = data['MyQuantileBins'].value_counts()\n",
    "        for i in range(3):\n",
    "            if max(values) == values[i]:\n",
    "                results[column_name] = i+1\n",
    "    return results\n",
    "    "
   ]
  },
  {
   "cell_type": "code",
   "execution_count": null,
   "metadata": {},
   "outputs": [],
   "source": []
  }
 ],
 "metadata": {
  "kernelspec": {
   "display_name": "Python 3",
   "language": "python",
   "name": "python3"
  },
  "language_info": {
   "codemirror_mode": {
    "name": "ipython",
    "version": 3
   },
   "file_extension": ".py",
   "mimetype": "text/x-python",
   "name": "python",
   "nbconvert_exporter": "python",
   "pygments_lexer": "ipython3",
   "version": "3.7.8"
  }
 },
 "nbformat": 4,
 "nbformat_minor": 4
}
