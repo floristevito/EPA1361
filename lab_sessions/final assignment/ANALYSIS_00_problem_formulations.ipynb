{
 "cells": [
  {
   "cell_type": "markdown",
   "metadata": {},
   "source": [
    "# Scenario Discovery\n",
    "\n",
    "This notebook is used as a discovery of the RfR model and to get a better understanding. Besides the RfR model there is no other input. \n",
    "\n",
    "Inputs: none\n",
    "\n",
    "Outputs: none\n",
    "\n",
    "\n"
   ]
  },
  {
   "cell_type": "code",
   "execution_count": 1,
   "metadata": {},
   "outputs": [],
   "source": [
    "import pandas as pd\n",
    "from problem_formulation import get_model_for_problem_formulation\n",
    "from ema_workbench.analysis import plotting, plotting_util, pairs_plotting"
   ]
  },
  {
   "cell_type": "code",
   "execution_count": 2,
   "metadata": {},
   "outputs": [],
   "source": [
    "model, functions = get_model_for_problem_formulation(1)"
   ]
  },
  {
   "cell_type": "code",
   "execution_count": 3,
   "metadata": {},
   "outputs": [
    {
     "name": "stdout",
     "output_type": "stream",
     "text": [
      "<ema_workbench.em_framework.util.NamedObjectMap object at 0x000001C5E725E2E0>\n",
      "<ema_workbench.em_framework.util.NamedObjectMap object at 0x000001C5EC58E880>\n",
      "['__add__', '__class__', '__contains__', '__delattr__', '__delitem__', '__dict__', '__dir__', '__doc__', '__eq__', '__format__', '__ge__', '__getattribute__', '__getitem__', '__gt__', '__hash__', '__iadd__', '__init__', '__init_subclass__', '__iter__', '__le__', '__len__', '__lt__', '__module__', '__ne__', '__new__', '__reduce__', '__reduce_ex__', '__repr__', '__setattr__', '__setitem__', '__sizeof__', '__str__', '__subclasshook__', '__weakref__', '_data', 'clear', 'copy', 'extend', 'keys', 'type']\n"
     ]
    }
   ],
   "source": [
    "print(model.levers)\n",
    "print(model.uncertainties)\n",
    "print(dir(model.outcomes))"
   ]
  },
  {
   "cell_type": "markdown",
   "metadata": {},
   "source": [
    "# Problem formulation discovery"
   ]
  },
  {
   "cell_type": "code",
   "execution_count": 4,
   "metadata": {},
   "outputs": [
    {
     "name": "stdout",
     "output_type": "stream",
     "text": [
      "Objectives in the model per problem formulation\n",
      "\n",
      "\n",
      "0\n",
      "odict_keys(['All Costs', 'Expected Number of Deaths'])\n",
      "\n",
      "\n",
      "1\n",
      "odict_keys(['Expected Annual Damage', 'Total Investment Costs', 'Expected Number of Deaths'])\n",
      "\n",
      "\n",
      "2\n",
      "odict_keys(['Expected Annual Damage', 'Dike Investment Costs', 'RfR Investment Costs', 'Evacuation Costs', 'Expected Number of Deaths', 'Minimum water level full network'])\n",
      "\n",
      "\n",
      "3\n",
      "odict_keys(['A.1 Total Costs', 'A.1_Expected Number of Deaths', 'A.2 Total Costs', 'A.2_Expected Number of Deaths', 'A.3 Total Costs', 'A.3_Expected Number of Deaths', 'A.4 Total Costs', 'A.4_Expected Number of Deaths', 'A.5 Total Costs', 'A.5_Expected Number of Deaths', 'RfR Total Costs', 'Expected Evacuation Costs'])\n",
      "\n",
      "\n",
      "4\n",
      "odict_keys(['Expected Annual Damage 0', 'Dike Investment Costs 0', 'Expected Number of Deaths 0', 'RfR Total Costs 0', 'Expected Evacuation Costs 0', 'Expected Annual Damage 1', 'Dike Investment Costs 1', 'Expected Number of Deaths 1', 'RfR Total Costs 1', 'Expected Evacuation Costs 1', 'Expected Annual Damage 2', 'Dike Investment Costs 2', 'Expected Number of Deaths 2', 'RfR Total Costs 2', 'Expected Evacuation Costs 2'])\n",
      "\n",
      "\n",
      "5\n",
      "odict_keys(['A.1_Expected Annual Damage 0', 'A.1_Dike Investment Costs 0', 'A.1_Expected Number of Deaths 0', 'A.2_Expected Annual Damage 0', 'A.2_Dike Investment Costs 0', 'A.2_Expected Number of Deaths 0', 'A.3_Expected Annual Damage 0', 'A.3_Dike Investment Costs 0', 'A.3_Expected Number of Deaths 0', 'A.4_Expected Annual Damage 0', 'A.4_Dike Investment Costs 0', 'A.4_Expected Number of Deaths 0', 'A.5_Expected Annual Damage 0', 'A.5_Dike Investment Costs 0', 'A.5_Expected Number of Deaths 0', 'RfR Total Costs 0', 'Expected Evacuation Costs 0', 'A.1_Expected Annual Damage 1', 'A.1_Dike Investment Costs 1', 'A.1_Expected Number of Deaths 1', 'A.2_Expected Annual Damage 1', 'A.2_Dike Investment Costs 1', 'A.2_Expected Number of Deaths 1', 'A.3_Expected Annual Damage 1', 'A.3_Dike Investment Costs 1', 'A.3_Expected Number of Deaths 1', 'A.4_Expected Annual Damage 1', 'A.4_Dike Investment Costs 1', 'A.4_Expected Number of Deaths 1', 'A.5_Expected Annual Damage 1', 'A.5_Dike Investment Costs 1', 'A.5_Expected Number of Deaths 1', 'RfR Total Costs 1', 'Expected Evacuation Costs 1', 'A.1_Expected Annual Damage 2', 'A.1_Dike Investment Costs 2', 'A.1_Expected Number of Deaths 2', 'A.2_Expected Annual Damage 2', 'A.2_Dike Investment Costs 2', 'A.2_Expected Number of Deaths 2', 'A.3_Expected Annual Damage 2', 'A.3_Dike Investment Costs 2', 'A.3_Expected Number of Deaths 2', 'A.4_Expected Annual Damage 2', 'A.4_Dike Investment Costs 2', 'A.4_Expected Number of Deaths 2', 'A.5_Expected Annual Damage 2', 'A.5_Dike Investment Costs 2', 'A.5_Expected Number of Deaths 2', 'RfR Total Costs 2', 'Expected Evacuation Costs 2'])\n"
     ]
    }
   ],
   "source": [
    "print('Objectives in the model per problem formulation')\n",
    "for i in range(6):\n",
    "    print('\\n')\n",
    "    print(i)\n",
    "    model, functions = get_model_for_problem_formulation(i)\n",
    "    print(model.outcomes._data.keys())\n",
    "    #print(model.outcomes._data)"
   ]
  },
  {
   "cell_type": "code",
   "execution_count": 5,
   "metadata": {},
   "outputs": [
    {
     "name": "stdout",
     "output_type": "stream",
     "text": [
      "Policy levers in the model per problem formulation\n",
      "\n",
      "\n",
      "0\n",
      "odict_keys(['0_RfR 0', '0_RfR 1', '0_RfR 2', '1_RfR 0', '1_RfR 1', '1_RfR 2', '2_RfR 0', '2_RfR 1', '2_RfR 2', '3_RfR 0', '3_RfR 1', '3_RfR 2', '4_RfR 0', '4_RfR 1', '4_RfR 2', 'EWS_DaysToThreat', 'A.1_DikeIncrease 0', 'A.1_DikeIncrease 1', 'A.1_DikeIncrease 2', 'A.2_DikeIncrease 0', 'A.2_DikeIncrease 1', 'A.2_DikeIncrease 2', 'A.3_DikeIncrease 0', 'A.3_DikeIncrease 1', 'A.3_DikeIncrease 2', 'A.4_DikeIncrease 0', 'A.4_DikeIncrease 1', 'A.4_DikeIncrease 2', 'A.5_DikeIncrease 0', 'A.5_DikeIncrease 1', 'A.5_DikeIncrease 2'])\n",
      "\n",
      "\n",
      "1\n",
      "odict_keys(['0_RfR 0', '0_RfR 1', '0_RfR 2', '1_RfR 0', '1_RfR 1', '1_RfR 2', '2_RfR 0', '2_RfR 1', '2_RfR 2', '3_RfR 0', '3_RfR 1', '3_RfR 2', '4_RfR 0', '4_RfR 1', '4_RfR 2', 'EWS_DaysToThreat', 'A.1_DikeIncrease 0', 'A.1_DikeIncrease 1', 'A.1_DikeIncrease 2', 'A.2_DikeIncrease 0', 'A.2_DikeIncrease 1', 'A.2_DikeIncrease 2', 'A.3_DikeIncrease 0', 'A.3_DikeIncrease 1', 'A.3_DikeIncrease 2', 'A.4_DikeIncrease 0', 'A.4_DikeIncrease 1', 'A.4_DikeIncrease 2', 'A.5_DikeIncrease 0', 'A.5_DikeIncrease 1', 'A.5_DikeIncrease 2'])\n",
      "\n",
      "\n",
      "2\n",
      "odict_keys(['0_RfR 0', '0_RfR 1', '0_RfR 2', '1_RfR 0', '1_RfR 1', '1_RfR 2', '2_RfR 0', '2_RfR 1', '2_RfR 2', '3_RfR 0', '3_RfR 1', '3_RfR 2', '4_RfR 0', '4_RfR 1', '4_RfR 2', 'EWS_DaysToThreat', 'A.1_DikeIncrease 0', 'A.1_DikeIncrease 1', 'A.1_DikeIncrease 2', 'A.2_DikeIncrease 0', 'A.2_DikeIncrease 1', 'A.2_DikeIncrease 2', 'A.3_DikeIncrease 0', 'A.3_DikeIncrease 1', 'A.3_DikeIncrease 2', 'A.4_DikeIncrease 0', 'A.4_DikeIncrease 1', 'A.4_DikeIncrease 2', 'A.5_DikeIncrease 0', 'A.5_DikeIncrease 1', 'A.5_DikeIncrease 2'])\n",
      "\n",
      "\n",
      "3\n",
      "odict_keys(['0_RfR 0', '0_RfR 1', '0_RfR 2', '1_RfR 0', '1_RfR 1', '1_RfR 2', '2_RfR 0', '2_RfR 1', '2_RfR 2', '3_RfR 0', '3_RfR 1', '3_RfR 2', '4_RfR 0', '4_RfR 1', '4_RfR 2', 'EWS_DaysToThreat', 'A.1_DikeIncrease 0', 'A.1_DikeIncrease 1', 'A.1_DikeIncrease 2', 'A.2_DikeIncrease 0', 'A.2_DikeIncrease 1', 'A.2_DikeIncrease 2', 'A.3_DikeIncrease 0', 'A.3_DikeIncrease 1', 'A.3_DikeIncrease 2', 'A.4_DikeIncrease 0', 'A.4_DikeIncrease 1', 'A.4_DikeIncrease 2', 'A.5_DikeIncrease 0', 'A.5_DikeIncrease 1', 'A.5_DikeIncrease 2'])\n",
      "\n",
      "\n",
      "4\n",
      "odict_keys(['0_RfR 0', '0_RfR 1', '0_RfR 2', '1_RfR 0', '1_RfR 1', '1_RfR 2', '2_RfR 0', '2_RfR 1', '2_RfR 2', '3_RfR 0', '3_RfR 1', '3_RfR 2', '4_RfR 0', '4_RfR 1', '4_RfR 2', 'EWS_DaysToThreat', 'A.1_DikeIncrease 0', 'A.1_DikeIncrease 1', 'A.1_DikeIncrease 2', 'A.2_DikeIncrease 0', 'A.2_DikeIncrease 1', 'A.2_DikeIncrease 2', 'A.3_DikeIncrease 0', 'A.3_DikeIncrease 1', 'A.3_DikeIncrease 2', 'A.4_DikeIncrease 0', 'A.4_DikeIncrease 1', 'A.4_DikeIncrease 2', 'A.5_DikeIncrease 0', 'A.5_DikeIncrease 1', 'A.5_DikeIncrease 2'])\n",
      "\n",
      "\n",
      "5\n",
      "odict_keys(['0_RfR 0', '0_RfR 1', '0_RfR 2', '1_RfR 0', '1_RfR 1', '1_RfR 2', '2_RfR 0', '2_RfR 1', '2_RfR 2', '3_RfR 0', '3_RfR 1', '3_RfR 2', '4_RfR 0', '4_RfR 1', '4_RfR 2', 'EWS_DaysToThreat', 'A.1_DikeIncrease 0', 'A.1_DikeIncrease 1', 'A.1_DikeIncrease 2', 'A.2_DikeIncrease 0', 'A.2_DikeIncrease 1', 'A.2_DikeIncrease 2', 'A.3_DikeIncrease 0', 'A.3_DikeIncrease 1', 'A.3_DikeIncrease 2', 'A.4_DikeIncrease 0', 'A.4_DikeIncrease 1', 'A.4_DikeIncrease 2', 'A.5_DikeIncrease 0', 'A.5_DikeIncrease 1', 'A.5_DikeIncrease 2'])\n"
     ]
    }
   ],
   "source": [
    "print('Policy levers in the model per problem formulation')\n",
    "for i in range(6):\n",
    "    print('\\n')\n",
    "    print(i)\n",
    "    model, functions = get_model_for_problem_formulation(i)\n",
    "    print(model.levers._data.keys())\n",
    "    #print(model.outcomes._data)"
   ]
  },
  {
   "cell_type": "code",
   "execution_count": 6,
   "metadata": {},
   "outputs": [
    {
     "name": "stdout",
     "output_type": "stream",
     "text": [
      "Uncertainties in the model per problem formulation\n",
      "\n",
      "\n",
      "0\n",
      "odict_keys(['discount rate 0', 'discount rate 1', 'discount rate 2', 'A.0_ID flood wave shape', 'A.1_Bmax', 'A.1_pfail', 'A.1_Brate', 'A.2_Bmax', 'A.2_pfail', 'A.2_Brate', 'A.3_Bmax', 'A.3_pfail', 'A.3_Brate', 'A.4_Bmax', 'A.4_pfail', 'A.4_Brate', 'A.5_Bmax', 'A.5_pfail', 'A.5_Brate'])\n",
      "\n",
      "\n",
      "1\n",
      "odict_keys(['discount rate 0', 'discount rate 1', 'discount rate 2', 'A.0_ID flood wave shape', 'A.1_Bmax', 'A.1_pfail', 'A.1_Brate', 'A.2_Bmax', 'A.2_pfail', 'A.2_Brate', 'A.3_Bmax', 'A.3_pfail', 'A.3_Brate', 'A.4_Bmax', 'A.4_pfail', 'A.4_Brate', 'A.5_Bmax', 'A.5_pfail', 'A.5_Brate'])\n",
      "\n",
      "\n",
      "2\n",
      "odict_keys(['discount rate 0', 'discount rate 1', 'discount rate 2', 'A.0_ID flood wave shape', 'A.1_Bmax', 'A.1_pfail', 'A.1_Brate', 'A.2_Bmax', 'A.2_pfail', 'A.2_Brate', 'A.3_Bmax', 'A.3_pfail', 'A.3_Brate', 'A.4_Bmax', 'A.4_pfail', 'A.4_Brate', 'A.5_Bmax', 'A.5_pfail', 'A.5_Brate'])\n",
      "\n",
      "\n",
      "3\n",
      "odict_keys(['discount rate 0', 'discount rate 1', 'discount rate 2', 'A.0_ID flood wave shape', 'A.1_Bmax', 'A.1_pfail', 'A.1_Brate', 'A.2_Bmax', 'A.2_pfail', 'A.2_Brate', 'A.3_Bmax', 'A.3_pfail', 'A.3_Brate', 'A.4_Bmax', 'A.4_pfail', 'A.4_Brate', 'A.5_Bmax', 'A.5_pfail', 'A.5_Brate'])\n",
      "\n",
      "\n",
      "4\n",
      "odict_keys(['discount rate 0', 'discount rate 1', 'discount rate 2', 'A.0_ID flood wave shape', 'A.1_Bmax', 'A.1_pfail', 'A.1_Brate', 'A.2_Bmax', 'A.2_pfail', 'A.2_Brate', 'A.3_Bmax', 'A.3_pfail', 'A.3_Brate', 'A.4_Bmax', 'A.4_pfail', 'A.4_Brate', 'A.5_Bmax', 'A.5_pfail', 'A.5_Brate'])\n",
      "\n",
      "\n",
      "5\n",
      "odict_keys(['discount rate 0', 'discount rate 1', 'discount rate 2', 'A.0_ID flood wave shape', 'A.1_Bmax', 'A.1_pfail', 'A.1_Brate', 'A.2_Bmax', 'A.2_pfail', 'A.2_Brate', 'A.3_Bmax', 'A.3_pfail', 'A.3_Brate', 'A.4_Bmax', 'A.4_pfail', 'A.4_Brate', 'A.5_Bmax', 'A.5_pfail', 'A.5_Brate'])\n"
     ]
    }
   ],
   "source": [
    "print('Uncertainties in the model per problem formulation')\n",
    "for i in range(6):\n",
    "    print('\\n')\n",
    "    print(i)\n",
    "    model, functions = get_model_for_problem_formulation(i)\n",
    "    print(model.uncertainties._data.keys())\n",
    "    #print(model.outcomes._data)"
   ]
  },
  {
   "cell_type": "markdown",
   "metadata": {},
   "source": [
    "# Model analysis"
   ]
  },
  {
   "cell_type": "code",
   "execution_count": 7,
   "metadata": {},
   "outputs": [
    {
     "name": "stderr",
     "output_type": "stream",
     "text": [
      "[MainProcess/INFO] performing 5 scenarios * 2 policies * 1 model(s) = 10 experiments\n",
      "[MainProcess/INFO] performing experiments sequentially\n",
      "[MainProcess/INFO] 1 cases completed\n",
      "[MainProcess/INFO] 2 cases completed\n",
      "[MainProcess/INFO] 3 cases completed\n",
      "[MainProcess/INFO] 4 cases completed\n",
      "[MainProcess/INFO] 5 cases completed\n",
      "[MainProcess/INFO] 6 cases completed\n",
      "[MainProcess/INFO] 7 cases completed\n",
      "[MainProcess/INFO] 8 cases completed\n",
      "[MainProcess/INFO] 9 cases completed\n",
      "[MainProcess/INFO] 10 cases completed\n",
      "[MainProcess/INFO] experiments finished\n"
     ]
    }
   ],
   "source": [
    "from ema_workbench import ema_logging, MultiprocessingEvaluator, SequentialEvaluator\n",
    "\n",
    "ema_logging.log_to_stderr(ema_logging.INFO)\n",
    "\n",
    "model, functions = get_model_for_problem_formulation(2)\n",
    "with SequentialEvaluator(model) as evaluator:\n",
    "    results = evaluator.perform_experiments(scenarios=5,               #500\n",
    "                                            policies=2,\n",
    "                                            uncertainty_sampling='mc')"
   ]
  },
  {
   "cell_type": "code",
   "execution_count": 9,
   "metadata": {},
   "outputs": [
    {
     "data": {
      "text/html": [
       "<div>\n",
       "<style scoped>\n",
       "    .dataframe tbody tr th:only-of-type {\n",
       "        vertical-align: middle;\n",
       "    }\n",
       "\n",
       "    .dataframe tbody tr th {\n",
       "        vertical-align: top;\n",
       "    }\n",
       "\n",
       "    .dataframe thead th {\n",
       "        text-align: right;\n",
       "    }\n",
       "</style>\n",
       "<table border=\"1\" class=\"dataframe\">\n",
       "  <thead>\n",
       "    <tr style=\"text-align: right;\">\n",
       "      <th></th>\n",
       "      <th>Expected Annual Damage</th>\n",
       "      <th>Dike Investment Costs</th>\n",
       "      <th>RfR Investment Costs</th>\n",
       "      <th>Evacuation Costs</th>\n",
       "      <th>Expected Number of Deaths</th>\n",
       "      <th>Minimum water level full network</th>\n",
       "    </tr>\n",
       "  </thead>\n",
       "  <tbody>\n",
       "    <tr>\n",
       "      <th>0</th>\n",
       "      <td>3.100171e+08</td>\n",
       "      <td>7.117688e+08</td>\n",
       "      <td>6.062000e+08</td>\n",
       "      <td>0.000000</td>\n",
       "      <td>0.724920</td>\n",
       "      <td>4.298500</td>\n",
       "    </tr>\n",
       "    <tr>\n",
       "      <th>1</th>\n",
       "      <td>5.376275e+08</td>\n",
       "      <td>7.117688e+08</td>\n",
       "      <td>6.062000e+08</td>\n",
       "      <td>0.000000</td>\n",
       "      <td>0.678006</td>\n",
       "      <td>4.401277</td>\n",
       "    </tr>\n",
       "    <tr>\n",
       "      <th>2</th>\n",
       "      <td>1.061760e+07</td>\n",
       "      <td>7.117688e+08</td>\n",
       "      <td>6.062000e+08</td>\n",
       "      <td>0.000000</td>\n",
       "      <td>0.022628</td>\n",
       "      <td>4.298500</td>\n",
       "    </tr>\n",
       "    <tr>\n",
       "      <th>3</th>\n",
       "      <td>0.000000e+00</td>\n",
       "      <td>7.117688e+08</td>\n",
       "      <td>6.062000e+08</td>\n",
       "      <td>0.000000</td>\n",
       "      <td>0.000000</td>\n",
       "      <td>4.298500</td>\n",
       "    </tr>\n",
       "    <tr>\n",
       "      <th>4</th>\n",
       "      <td>1.423477e+07</td>\n",
       "      <td>7.117688e+08</td>\n",
       "      <td>6.062000e+08</td>\n",
       "      <td>0.000000</td>\n",
       "      <td>0.035977</td>\n",
       "      <td>4.298500</td>\n",
       "    </tr>\n",
       "    <tr>\n",
       "      <th>5</th>\n",
       "      <td>3.198497e+07</td>\n",
       "      <td>6.550271e+08</td>\n",
       "      <td>1.525000e+09</td>\n",
       "      <td>2943.288954</td>\n",
       "      <td>0.005118</td>\n",
       "      <td>4.418500</td>\n",
       "    </tr>\n",
       "    <tr>\n",
       "      <th>6</th>\n",
       "      <td>1.168114e+07</td>\n",
       "      <td>6.550271e+08</td>\n",
       "      <td>1.525000e+09</td>\n",
       "      <td>487.098120</td>\n",
       "      <td>0.001589</td>\n",
       "      <td>4.521277</td>\n",
       "    </tr>\n",
       "    <tr>\n",
       "      <th>7</th>\n",
       "      <td>3.852289e+07</td>\n",
       "      <td>6.550271e+08</td>\n",
       "      <td>1.525000e+09</td>\n",
       "      <td>3015.979671</td>\n",
       "      <td>0.005183</td>\n",
       "      <td>4.418500</td>\n",
       "    </tr>\n",
       "    <tr>\n",
       "      <th>8</th>\n",
       "      <td>8.880755e+07</td>\n",
       "      <td>6.550271e+08</td>\n",
       "      <td>1.525000e+09</td>\n",
       "      <td>5776.736694</td>\n",
       "      <td>0.009649</td>\n",
       "      <td>4.418500</td>\n",
       "    </tr>\n",
       "    <tr>\n",
       "      <th>9</th>\n",
       "      <td>8.217712e+05</td>\n",
       "      <td>6.550271e+08</td>\n",
       "      <td>1.525000e+09</td>\n",
       "      <td>76.885364</td>\n",
       "      <td>0.000143</td>\n",
       "      <td>4.418500</td>\n",
       "    </tr>\n",
       "  </tbody>\n",
       "</table>\n",
       "</div>"
      ],
      "text/plain": [
       "   Expected Annual Damage  Dike Investment Costs  RfR Investment Costs  \\\n",
       "0            3.100171e+08           7.117688e+08          6.062000e+08   \n",
       "1            5.376275e+08           7.117688e+08          6.062000e+08   \n",
       "2            1.061760e+07           7.117688e+08          6.062000e+08   \n",
       "3            0.000000e+00           7.117688e+08          6.062000e+08   \n",
       "4            1.423477e+07           7.117688e+08          6.062000e+08   \n",
       "5            3.198497e+07           6.550271e+08          1.525000e+09   \n",
       "6            1.168114e+07           6.550271e+08          1.525000e+09   \n",
       "7            3.852289e+07           6.550271e+08          1.525000e+09   \n",
       "8            8.880755e+07           6.550271e+08          1.525000e+09   \n",
       "9            8.217712e+05           6.550271e+08          1.525000e+09   \n",
       "\n",
       "   Evacuation Costs  Expected Number of Deaths  \\\n",
       "0          0.000000                   0.724920   \n",
       "1          0.000000                   0.678006   \n",
       "2          0.000000                   0.022628   \n",
       "3          0.000000                   0.000000   \n",
       "4          0.000000                   0.035977   \n",
       "5       2943.288954                   0.005118   \n",
       "6        487.098120                   0.001589   \n",
       "7       3015.979671                   0.005183   \n",
       "8       5776.736694                   0.009649   \n",
       "9         76.885364                   0.000143   \n",
       "\n",
       "   Minimum water level full network  \n",
       "0                          4.298500  \n",
       "1                          4.401277  \n",
       "2                          4.298500  \n",
       "3                          4.298500  \n",
       "4                          4.298500  \n",
       "5                          4.418500  \n",
       "6                          4.521277  \n",
       "7                          4.418500  \n",
       "8                          4.418500  \n",
       "9                          4.418500  "
      ]
     },
     "execution_count": 9,
     "metadata": {},
     "output_type": "execute_result"
    }
   ],
   "source": [
    "experiments = results[0]\n",
    "outcomes = pd.DataFrame(results[1])\n",
    "outcomes"
   ]
  },
  {
   "cell_type": "code",
   "execution_count": null,
   "metadata": {},
   "outputs": [],
   "source": [
    "outcomes['Minimum water level full network'][0]"
   ]
  },
  {
   "cell_type": "code",
   "execution_count": null,
   "metadata": {},
   "outputs": [],
   "source": [
    "data = pd.concat([experiments, outcomes], 1)\n",
    "data"
   ]
  },
  {
   "cell_type": "code",
   "execution_count": null,
   "metadata": {},
   "outputs": [],
   "source": [
    "experiments.groupby('policy').mean()"
   ]
  },
  {
   "cell_type": "code",
   "execution_count": null,
   "metadata": {},
   "outputs": [],
   "source": [
    "import matplotlib.pyplot as plt\n",
    "fig, axes = pairs_plotting.pairs_scatter(results[0], results[1], group_by='policy',\n",
    "                                         legend=True)\n",
    "fig.set_size_inches(8,8)\n",
    "plt.show()"
   ]
  },
  {
   "cell_type": "code",
   "execution_count": null,
   "metadata": {},
   "outputs": [],
   "source": [
    "import seaborn as sns\n",
    "sns.pairplot(pd.DataFrame(results[1]))"
   ]
  },
  {
   "cell_type": "code",
   "execution_count": null,
   "metadata": {},
   "outputs": [],
   "source": [
    "fig, axes = pairs_plotting.pairs_scatter(results[0], results[1], group_by='policy',\n",
    "                                         legend=True)\n",
    "fig.set_size_inches(8, 8)\n",
    "plt.show()"
   ]
  },
  {
   "cell_type": "code",
   "execution_count": null,
   "metadata": {},
   "outputs": [],
   "source": []
  }
 ],
 "metadata": {
  "kernelspec": {
   "display_name": "Python 3",
   "language": "python",
   "name": "python3"
  },
  "language_info": {
   "codemirror_mode": {
    "name": "ipython",
    "version": 3
   },
   "file_extension": ".py",
   "mimetype": "text/x-python",
   "name": "python",
   "nbconvert_exporter": "python",
   "pygments_lexer": "ipython3",
   "version": "3.8.5"
  }
 },
 "nbformat": 4,
 "nbformat_minor": 4
}
