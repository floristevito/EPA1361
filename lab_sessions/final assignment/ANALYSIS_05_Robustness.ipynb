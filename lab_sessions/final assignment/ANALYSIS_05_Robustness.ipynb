{
 "metadata": {
  "language_info": {
   "codemirror_mode": {
    "name": "ipython",
    "version": 3
   },
   "file_extension": ".py",
   "mimetype": "text/x-python",
   "name": "python",
   "nbconvert_exporter": "python",
   "pygments_lexer": "ipython3",
   "version": "3.8.8"
  },
  "orig_nbformat": 2,
  "kernelspec": {
   "name": "python388jvsc74a57bd02f0ac929bf69e767d97169d4c3c2e590e3a5aa1e8190d34be53496fcb6d6f9aa",
   "display_name": "Python 3.8.8 64-bit ('model_based_decision_making': conda)"
  }
 },
 "nbformat": 4,
 "nbformat_minor": 2,
 "cells": [
  {
   "cell_type": "code",
   "execution_count": 1,
   "metadata": {},
   "outputs": [],
   "source": [
    "import pandas as pd\n",
    "from problem_formulation import get_model_for_problem_formulation\n",
    "from ema_workbench.analysis import plotting, plotting_util, pairs_plotting, prim\n",
    "from ema_workbench import (RealParameter, ScalarOutcome, Constant,\n",
    "                           Model, MultiprocessingEvaluator, SequentialEvaluator, ema_logging,\n",
    "                           perform_experiments, Policy, Scenario)\n",
    "from ema_workbench.em_framework.salib_samplers import get_SALib_problem\n",
    "from ema_workbench.em_framework.samplers import sample_uncertainties\n",
    "from ema_workbench.em_framework.optimization import (HyperVolume,\n",
    "                                                     EpsilonProgress)\n",
    "from ema_workbench import Constraint\n",
    "from ema_workbench.util.utilities import (save_results, load_results)\n",
    "import seaborn as sns\n",
    "import matplotlib.pyplot as plt"
   ]
  },
  {
   "cell_type": "code",
   "execution_count": 68,
   "metadata": {},
   "outputs": [],
   "source": [
    "def hurwitz(data,column_names,alpha=0):\n",
    "    results = {}\n",
    "    for column_name in column_names:\n",
    "        Max_value = data[column_name].max()\n",
    "        Min_value = data[column_name].min()\n",
    "        hurwitz_coef = alpha * Max_value + (1-alpha) * Min_value\n",
    "        results[column_name] = hurwitz_coef\n",
    "    return results\n",
    "\n",
    "def mean_variance(data,column_names):\n",
    "    results = {}\n",
    "    for column_name in column_names:\n",
    "        results[column_name] = data[column_name].mean(), data[column_name].var()\n",
    "    return results"
   ]
  },
  {
   "cell_type": "code",
   "execution_count": 3,
   "metadata": {},
   "outputs": [],
   "source": [
    "# define problem formulation\n",
    "model, functions = get_model_for_problem_formulation(2)"
   ]
  },
  {
   "cell_type": "code",
   "execution_count": 32,
   "metadata": {},
   "outputs": [
    {
     "output_type": "stream",
     "name": "stderr",
     "text": [
      "[MainProcess/INFO] pool started\n",
      "[MainProcess/INFO] performing 4 scenarios * 3 policies * 1 model(s) = 12 experiments\n",
      "[MainProcess/INFO] 1 cases completed\n",
      "[MainProcess/INFO] 2 cases completed\n",
      "[MainProcess/INFO] 3 cases completed\n",
      "[MainProcess/INFO] 4 cases completed\n",
      "[MainProcess/INFO] 5 cases completed\n",
      "[MainProcess/INFO] 6 cases completed\n",
      "[MainProcess/INFO] 7 cases completed\n",
      "[MainProcess/INFO] 8 cases completed\n",
      "[MainProcess/INFO] 9 cases completed\n",
      "[MainProcess/INFO] 10 cases completed\n",
      "[MainProcess/INFO] 11 cases completed\n",
      "[MainProcess/INFO] 12 cases completed\n",
      "[MainProcess/INFO] experiments finished\n",
      "[MainProcess/INFO] terminating pool\n"
     ]
    }
   ],
   "source": [
    "# use lhs sampling to sample uncertainties and run model\n",
    "ema_logging.log_to_stderr(ema_logging.INFO)\n",
    "\n",
    "with MultiprocessingEvaluator(model) as evaluator:\n",
    "    results = evaluator.perform_experiments(scenarios=4,               \n",
    "                                            policies=3,\n",
    "                                            uncertainty_sampling='lhs')"
   ]
  },
  {
   "cell_type": "code",
   "execution_count": 46,
   "metadata": {},
   "outputs": [],
   "source": [
    "experiments, outcomes = results"
   ]
  },
  {
   "source": [],
   "cell_type": "markdown",
   "metadata": {}
  },
  {
   "cell_type": "code",
   "execution_count": 47,
   "metadata": {},
   "outputs": [],
   "source": [
    "outcomes = pd.DataFrame(outcomes)"
   ]
  },
  {
   "cell_type": "code",
   "execution_count": 48,
   "metadata": {},
   "outputs": [
    {
     "output_type": "execute_result",
     "data": {
      "text/plain": [
       "    Expected Annual Damage  Dike Investment Costs  RfR Investment Costs  \\\n",
       "0             2.927113e+07           7.624014e+08          9.665000e+08   \n",
       "1             0.000000e+00           7.624014e+08          9.665000e+08   \n",
       "2             6.102194e+04           7.624014e+08          9.665000e+08   \n",
       "3             7.068142e+06           7.624014e+08          9.665000e+08   \n",
       "4             2.221755e+06           7.822169e+08          1.055500e+09   \n",
       "5             0.000000e+00           7.822169e+08          1.055500e+09   \n",
       "6             0.000000e+00           7.822169e+08          1.055500e+09   \n",
       "7             8.019658e+06           7.822169e+08          1.055500e+09   \n",
       "8             2.304408e+08           5.183716e+08          5.269000e+08   \n",
       "9             1.089697e+07           5.183716e+08          5.269000e+08   \n",
       "10            2.460322e+07           5.183716e+08          5.269000e+08   \n",
       "11            1.476944e+07           5.183716e+08          5.269000e+08   \n",
       "\n",
       "    Evacuation Costs  Expected Number of Deaths  \\\n",
       "0        2647.747314                   0.003891   \n",
       "1           0.000000                   0.000000   \n",
       "2           4.731652                   0.000004   \n",
       "3         141.535654                   0.000805   \n",
       "4         121.650600                   0.000392   \n",
       "5           0.000000                   0.000000   \n",
       "6           0.000000                   0.000000   \n",
       "7         283.687364                   0.002171   \n",
       "8           0.000000                   0.238010   \n",
       "9           0.000000                   0.008486   \n",
       "10          0.000000                   0.018390   \n",
       "11          0.000000                   0.036324   \n",
       "\n",
       "    Minimum water level full network policy  \n",
       "0                           4.418500      1  \n",
       "1                           5.218298      1  \n",
       "2                           4.418500      1  \n",
       "3                           4.418500      1  \n",
       "4                           4.538500      2  \n",
       "5                           5.338298      2  \n",
       "6                           4.538500      2  \n",
       "7                           4.538500      2  \n",
       "8                           4.298500      3  \n",
       "9                           5.098298      3  \n",
       "10                          4.298500      3  \n",
       "11                          4.298500      3  "
      ],
      "text/html": "<div>\n<style scoped>\n    .dataframe tbody tr th:only-of-type {\n        vertical-align: middle;\n    }\n\n    .dataframe tbody tr th {\n        vertical-align: top;\n    }\n\n    .dataframe thead th {\n        text-align: right;\n    }\n</style>\n<table border=\"1\" class=\"dataframe\">\n  <thead>\n    <tr style=\"text-align: right;\">\n      <th></th>\n      <th>Expected Annual Damage</th>\n      <th>Dike Investment Costs</th>\n      <th>RfR Investment Costs</th>\n      <th>Evacuation Costs</th>\n      <th>Expected Number of Deaths</th>\n      <th>Minimum water level full network</th>\n      <th>policy</th>\n    </tr>\n  </thead>\n  <tbody>\n    <tr>\n      <th>0</th>\n      <td>2.927113e+07</td>\n      <td>7.624014e+08</td>\n      <td>9.665000e+08</td>\n      <td>2647.747314</td>\n      <td>0.003891</td>\n      <td>4.418500</td>\n      <td>1</td>\n    </tr>\n    <tr>\n      <th>1</th>\n      <td>0.000000e+00</td>\n      <td>7.624014e+08</td>\n      <td>9.665000e+08</td>\n      <td>0.000000</td>\n      <td>0.000000</td>\n      <td>5.218298</td>\n      <td>1</td>\n    </tr>\n    <tr>\n      <th>2</th>\n      <td>6.102194e+04</td>\n      <td>7.624014e+08</td>\n      <td>9.665000e+08</td>\n      <td>4.731652</td>\n      <td>0.000004</td>\n      <td>4.418500</td>\n      <td>1</td>\n    </tr>\n    <tr>\n      <th>3</th>\n      <td>7.068142e+06</td>\n      <td>7.624014e+08</td>\n      <td>9.665000e+08</td>\n      <td>141.535654</td>\n      <td>0.000805</td>\n      <td>4.418500</td>\n      <td>1</td>\n    </tr>\n    <tr>\n      <th>4</th>\n      <td>2.221755e+06</td>\n      <td>7.822169e+08</td>\n      <td>1.055500e+09</td>\n      <td>121.650600</td>\n      <td>0.000392</td>\n      <td>4.538500</td>\n      <td>2</td>\n    </tr>\n    <tr>\n      <th>5</th>\n      <td>0.000000e+00</td>\n      <td>7.822169e+08</td>\n      <td>1.055500e+09</td>\n      <td>0.000000</td>\n      <td>0.000000</td>\n      <td>5.338298</td>\n      <td>2</td>\n    </tr>\n    <tr>\n      <th>6</th>\n      <td>0.000000e+00</td>\n      <td>7.822169e+08</td>\n      <td>1.055500e+09</td>\n      <td>0.000000</td>\n      <td>0.000000</td>\n      <td>4.538500</td>\n      <td>2</td>\n    </tr>\n    <tr>\n      <th>7</th>\n      <td>8.019658e+06</td>\n      <td>7.822169e+08</td>\n      <td>1.055500e+09</td>\n      <td>283.687364</td>\n      <td>0.002171</td>\n      <td>4.538500</td>\n      <td>2</td>\n    </tr>\n    <tr>\n      <th>8</th>\n      <td>2.304408e+08</td>\n      <td>5.183716e+08</td>\n      <td>5.269000e+08</td>\n      <td>0.000000</td>\n      <td>0.238010</td>\n      <td>4.298500</td>\n      <td>3</td>\n    </tr>\n    <tr>\n      <th>9</th>\n      <td>1.089697e+07</td>\n      <td>5.183716e+08</td>\n      <td>5.269000e+08</td>\n      <td>0.000000</td>\n      <td>0.008486</td>\n      <td>5.098298</td>\n      <td>3</td>\n    </tr>\n    <tr>\n      <th>10</th>\n      <td>2.460322e+07</td>\n      <td>5.183716e+08</td>\n      <td>5.269000e+08</td>\n      <td>0.000000</td>\n      <td>0.018390</td>\n      <td>4.298500</td>\n      <td>3</td>\n    </tr>\n    <tr>\n      <th>11</th>\n      <td>1.476944e+07</td>\n      <td>5.183716e+08</td>\n      <td>5.269000e+08</td>\n      <td>0.000000</td>\n      <td>0.036324</td>\n      <td>4.298500</td>\n      <td>3</td>\n    </tr>\n  </tbody>\n</table>\n</div>"
     },
     "metadata": {},
     "execution_count": 48
    }
   ],
   "source": [
    "data = pd.concat([experiments, outcomes], 1)\n",
    "columns = outcomes.columns.to_list()\n",
    "columns.append('policy')\n",
    "data[columns]"
   ]
  },
  {
   "cell_type": "code",
   "execution_count": 69,
   "metadata": {},
   "outputs": [
    {
     "output_type": "stream",
     "name": "stdout",
     "text": [
      "[1 2 3]\n"
     ]
    },
    {
     "output_type": "execute_result",
     "data": {
      "text/plain": [
       "{'Expected Annual Damage': 115220379.76717158,\n",
       " 'Dike Investment Costs': 650294259.9311185,\n",
       " 'RfR Investment Costs': 791200000.0,\n",
       " 'Evacuation Costs': 1323.873656930931,\n",
       " 'Expected Number of Deaths': 0.11900514237867287,\n",
       " 'Minimum water level full network': 4.818399104317777}"
      ]
     },
     "metadata": {},
     "execution_count": 69
    }
   ],
   "source": [
    "hurwitz(data, outcomes.columns.to_list(), 0.5)"
   ]
  },
  {
   "cell_type": "code",
   "execution_count": 63,
   "metadata": {},
   "outputs": [
    {
     "output_type": "execute_result",
     "data": {
      "text/plain": [
       "   Expected Annual Damage  Dike Investment Costs  RfR Investment Costs  \\\n",
       "0            1.463557e+07           7.624014e+08          9.665000e+08   \n",
       "1            4.009829e+06           7.822169e+08          1.055500e+09   \n",
       "2            1.206689e+08           5.183716e+08          5.269000e+08   \n",
       "\n",
       "   Evacuation Costs  Expected Number of Deaths  \\\n",
       "0       1323.873657                   0.001946   \n",
       "1        141.843682                   0.001085   \n",
       "2          0.000000                   0.123248   \n",
       "\n",
       "   Minimum water level full network  \n",
       "0                          4.818399  \n",
       "1                          4.938399  \n",
       "2                          4.698399  "
      ],
      "text/html": "<div>\n<style scoped>\n    .dataframe tbody tr th:only-of-type {\n        vertical-align: middle;\n    }\n\n    .dataframe tbody tr th {\n        vertical-align: top;\n    }\n\n    .dataframe thead th {\n        text-align: right;\n    }\n</style>\n<table border=\"1\" class=\"dataframe\">\n  <thead>\n    <tr style=\"text-align: right;\">\n      <th></th>\n      <th>Expected Annual Damage</th>\n      <th>Dike Investment Costs</th>\n      <th>RfR Investment Costs</th>\n      <th>Evacuation Costs</th>\n      <th>Expected Number of Deaths</th>\n      <th>Minimum water level full network</th>\n    </tr>\n  </thead>\n  <tbody>\n    <tr>\n      <th>0</th>\n      <td>1.463557e+07</td>\n      <td>7.624014e+08</td>\n      <td>9.665000e+08</td>\n      <td>1323.873657</td>\n      <td>0.001946</td>\n      <td>4.818399</td>\n    </tr>\n    <tr>\n      <th>1</th>\n      <td>4.009829e+06</td>\n      <td>7.822169e+08</td>\n      <td>1.055500e+09</td>\n      <td>141.843682</td>\n      <td>0.001085</td>\n      <td>4.938399</td>\n    </tr>\n    <tr>\n      <th>2</th>\n      <td>1.206689e+08</td>\n      <td>5.183716e+08</td>\n      <td>5.269000e+08</td>\n      <td>0.000000</td>\n      <td>0.123248</td>\n      <td>4.698399</td>\n    </tr>\n  </tbody>\n</table>\n</div>"
     },
     "metadata": {},
     "execution_count": 63
    }
   ],
   "source": [
    "dataset = data.groupby('policy').apply(lambda x: hurwitz(x, outcomes.columns.to_list(), 0.5))\n",
    "pd.DataFrame([value for value in dataset])"
   ]
  },
  {
   "cell_type": "code",
   "execution_count": 65,
   "metadata": {},
   "outputs": [
    {
     "output_type": "execute_result",
     "data": {
      "text/plain": [
       "                       Expected Annual Damage      Dike Investment Costs  \\\n",
       "0     (9100074.186169248, 191838722331045.22)   (762401392.8017794, 0.0)   \n",
       "1    (2560353.2487835065, 14343156449575.734)   (782216872.3266463, 0.0)   \n",
       "2  (70177597.3347504, 1.1448520542074234e+16)  (518371647.53559077, 0.0)   \n",
       "\n",
       "  RfR Investment Costs                          Evacuation Costs  \\\n",
       "0   (966500000.0, 0.0)   (698.5036551405437, 1692997.0476946312)   \n",
       "1  (1055500000.0, 0.0)  (101.33449093212772, 18067.557569024462)   \n",
       "2   (526900000.0, 0.0)                                (0.0, 0.0)   \n",
       "\n",
       "                        Expected Number of Deaths  \\\n",
       "0  (0.001174940841086725, 3.4223030039536657e-06)   \n",
       "1  (0.0006406678008824751, 1.074701924582457e-06)   \n",
       "2      (0.0753027541106215, 0.011898853940071832)   \n",
       "\n",
       "           Minimum water level full network  \n",
       "0  (4.618449552158889, 0.15991929363415788)  \n",
       "1  (4.738449552158889, 0.15991929363415788)  \n",
       "2  (4.498449552158889, 0.15991929363415788)  "
      ],
      "text/html": "<div>\n<style scoped>\n    .dataframe tbody tr th:only-of-type {\n        vertical-align: middle;\n    }\n\n    .dataframe tbody tr th {\n        vertical-align: top;\n    }\n\n    .dataframe thead th {\n        text-align: right;\n    }\n</style>\n<table border=\"1\" class=\"dataframe\">\n  <thead>\n    <tr style=\"text-align: right;\">\n      <th></th>\n      <th>Expected Annual Damage</th>\n      <th>Dike Investment Costs</th>\n      <th>RfR Investment Costs</th>\n      <th>Evacuation Costs</th>\n      <th>Expected Number of Deaths</th>\n      <th>Minimum water level full network</th>\n    </tr>\n  </thead>\n  <tbody>\n    <tr>\n      <th>0</th>\n      <td>(9100074.186169248, 191838722331045.22)</td>\n      <td>(762401392.8017794, 0.0)</td>\n      <td>(966500000.0, 0.0)</td>\n      <td>(698.5036551405437, 1692997.0476946312)</td>\n      <td>(0.001174940841086725, 3.4223030039536657e-06)</td>\n      <td>(4.618449552158889, 0.15991929363415788)</td>\n    </tr>\n    <tr>\n      <th>1</th>\n      <td>(2560353.2487835065, 14343156449575.734)</td>\n      <td>(782216872.3266463, 0.0)</td>\n      <td>(1055500000.0, 0.0)</td>\n      <td>(101.33449093212772, 18067.557569024462)</td>\n      <td>(0.0006406678008824751, 1.074701924582457e-06)</td>\n      <td>(4.738449552158889, 0.15991929363415788)</td>\n    </tr>\n    <tr>\n      <th>2</th>\n      <td>(70177597.3347504, 1.1448520542074234e+16)</td>\n      <td>(518371647.53559077, 0.0)</td>\n      <td>(526900000.0, 0.0)</td>\n      <td>(0.0, 0.0)</td>\n      <td>(0.0753027541106215, 0.011898853940071832)</td>\n      <td>(4.498449552158889, 0.15991929363415788)</td>\n    </tr>\n  </tbody>\n</table>\n</div>"
     },
     "metadata": {},
     "execution_count": 65
    }
   ],
   "source": [
    "dataset1 = data.groupby('policy').apply(lambda x: mean_variance(x, outcomes.columns.to_list()))\n",
    "pd.DataFrame([value for value in dataset1])"
   ]
  },
  {
   "cell_type": "code",
   "execution_count": null,
   "metadata": {},
   "outputs": [],
   "source": []
  }
 ]
}