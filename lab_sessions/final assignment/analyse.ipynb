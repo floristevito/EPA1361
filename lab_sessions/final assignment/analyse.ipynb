{
 "metadata": {
  "language_info": {
   "codemirror_mode": {
    "name": "ipython",
    "version": 3
   },
   "file_extension": ".py",
   "mimetype": "text/x-python",
   "name": "python",
   "nbconvert_exporter": "python",
   "pygments_lexer": "ipython3",
   "version": "3.8.8"
  },
  "orig_nbformat": 2,
  "kernelspec": {
   "name": "python388jvsc74a57bd02f0ac929bf69e767d97169d4c3c2e590e3a5aa1e8190d34be53496fcb6d6f9aa",
   "display_name": "Python 3.8.8 64-bit ('model_based_decision_making': conda)"
  }
 },
 "nbformat": 4,
 "nbformat_minor": 2,
 "cells": [
  {
   "cell_type": "code",
   "execution_count": 1,
   "metadata": {},
   "outputs": [],
   "source": [
    "from problem_formulation import get_model_for_problem_formulation"
   ]
  },
  {
   "cell_type": "code",
   "execution_count": 19,
   "metadata": {},
   "outputs": [],
   "source": [
    "model, functions = get_model_for_problem_formulation(1)"
   ]
  },
  {
   "cell_type": "code",
   "execution_count": 20,
   "metadata": {},
   "outputs": [
    {
     "output_type": "stream",
     "name": "stdout",
     "text": [
      "<ema_workbench.em_framework.util.NamedObjectMap object at 0x0000029BA885A7F0>\n<ema_workbench.em_framework.util.NamedObjectMap object at 0x0000029BA8BAA3A0>\n['__add__', '__class__', '__contains__', '__delattr__', '__delitem__', '__dict__', '__dir__', '__doc__', '__eq__', '__format__', '__ge__', '__getattribute__', '__getitem__', '__gt__', '__hash__', '__iadd__', '__init__', '__init_subclass__', '__iter__', '__le__', '__len__', '__lt__', '__module__', '__ne__', '__new__', '__reduce__', '__reduce_ex__', '__repr__', '__setattr__', '__setitem__', '__sizeof__', '__str__', '__subclasshook__', '__weakref__', '_data', 'clear', 'copy', 'extend', 'keys', 'type']\n"
     ]
    }
   ],
   "source": [
    "print(model.levers)\n",
    "print(model.uncertainties)\n",
    "print(dir(model.outcomes))"
   ]
  },
  {
   "cell_type": "code",
   "execution_count": 38,
   "metadata": {},
   "outputs": [
    {
     "output_type": "stream",
     "name": "stdout",
     "text": [
      "Objectives in the model per problem formulation\n",
      "\n",
      "\n",
      "0\n",
      "odict_keys(['All Costs', 'Expected Number of Deaths'])\n",
      "\n",
      "\n",
      "1\n",
      "odict_keys(['Expected Annual Damage', 'Total Investment Costs', 'Expected Number of Deaths'])\n",
      "\n",
      "\n",
      "2\n",
      "odict_keys(['Expected Annual Damage', 'Dike Investment Costs', 'RfR Investment Costs', 'Evacuation Costs', 'Expected Number of Deaths'])\n",
      "\n",
      "\n",
      "3\n",
      "odict_keys(['A.1 Total Costs', 'A.1_Expected Number of Deaths', 'A.2 Total Costs', 'A.2_Expected Number of Deaths', 'A.3 Total Costs', 'A.3_Expected Number of Deaths', 'A.4 Total Costs', 'A.4_Expected Number of Deaths', 'A.5 Total Costs', 'A.5_Expected Number of Deaths', 'RfR Total Costs', 'Expected Evacuation Costs'])\n",
      "\n",
      "\n",
      "4\n",
      "odict_keys(['Expected Annual Damage 0', 'Dike Investment Costs 0', 'Expected Number of Deaths 0', 'RfR Total Costs 0', 'Expected Evacuation Costs 0', 'Expected Annual Damage 1', 'Dike Investment Costs 1', 'Expected Number of Deaths 1', 'RfR Total Costs 1', 'Expected Evacuation Costs 1', 'Expected Annual Damage 2', 'Dike Investment Costs 2', 'Expected Number of Deaths 2', 'RfR Total Costs 2', 'Expected Evacuation Costs 2'])\n",
      "\n",
      "\n",
      "5\n",
      "odict_keys(['A.1_Expected Annual Damage 0', 'A.1_Dike Investment Costs 0', 'A.1_Expected Number of Deaths 0', 'A.2_Expected Annual Damage 0', 'A.2_Dike Investment Costs 0', 'A.2_Expected Number of Deaths 0', 'A.3_Expected Annual Damage 0', 'A.3_Dike Investment Costs 0', 'A.3_Expected Number of Deaths 0', 'A.4_Expected Annual Damage 0', 'A.4_Dike Investment Costs 0', 'A.4_Expected Number of Deaths 0', 'A.5_Expected Annual Damage 0', 'A.5_Dike Investment Costs 0', 'A.5_Expected Number of Deaths 0', 'RfR Total Costs 0', 'Expected Evacuation Costs 0', 'A.1_Expected Annual Damage 1', 'A.1_Dike Investment Costs 1', 'A.1_Expected Number of Deaths 1', 'A.2_Expected Annual Damage 1', 'A.2_Dike Investment Costs 1', 'A.2_Expected Number of Deaths 1', 'A.3_Expected Annual Damage 1', 'A.3_Dike Investment Costs 1', 'A.3_Expected Number of Deaths 1', 'A.4_Expected Annual Damage 1', 'A.4_Dike Investment Costs 1', 'A.4_Expected Number of Deaths 1', 'A.5_Expected Annual Damage 1', 'A.5_Dike Investment Costs 1', 'A.5_Expected Number of Deaths 1', 'RfR Total Costs 1', 'Expected Evacuation Costs 1', 'A.1_Expected Annual Damage 2', 'A.1_Dike Investment Costs 2', 'A.1_Expected Number of Deaths 2', 'A.2_Expected Annual Damage 2', 'A.2_Dike Investment Costs 2', 'A.2_Expected Number of Deaths 2', 'A.3_Expected Annual Damage 2', 'A.3_Dike Investment Costs 2', 'A.3_Expected Number of Deaths 2', 'A.4_Expected Annual Damage 2', 'A.4_Dike Investment Costs 2', 'A.4_Expected Number of Deaths 2', 'A.5_Expected Annual Damage 2', 'A.5_Dike Investment Costs 2', 'A.5_Expected Number of Deaths 2', 'RfR Total Costs 2', 'Expected Evacuation Costs 2'])\n"
     ]
    }
   ],
   "source": [
    "print('Objectives in the model per problem formulation')\n",
    "for i in range(6):\n",
    "    print('\\n')\n",
    "    print(i)\n",
    "    model, functions = get_model_for_problem_formulation(i)\n",
    "    print(model.outcomes._data.keys())\n",
    "    #print(model.outcomes._data)"
   ]
  },
  {
   "cell_type": "code",
   "execution_count": 37,
   "metadata": {},
   "outputs": [
    {
     "output_type": "stream",
     "name": "stdout",
     "text": [
      "Policy levers in the model per problem formulation\n",
      "\n",
      "\n",
      "0\n",
      "odict_keys(['0_RfR 0', '0_RfR 1', '0_RfR 2', '1_RfR 0', '1_RfR 1', '1_RfR 2', '2_RfR 0', '2_RfR 1', '2_RfR 2', '3_RfR 0', '3_RfR 1', '3_RfR 2', '4_RfR 0', '4_RfR 1', '4_RfR 2', 'EWS_DaysToThreat', 'A.1_DikeIncrease 0', 'A.1_DikeIncrease 1', 'A.1_DikeIncrease 2', 'A.2_DikeIncrease 0', 'A.2_DikeIncrease 1', 'A.2_DikeIncrease 2', 'A.3_DikeIncrease 0', 'A.3_DikeIncrease 1', 'A.3_DikeIncrease 2', 'A.4_DikeIncrease 0', 'A.4_DikeIncrease 1', 'A.4_DikeIncrease 2', 'A.5_DikeIncrease 0', 'A.5_DikeIncrease 1', 'A.5_DikeIncrease 2'])\n",
      "\n",
      "\n",
      "1\n",
      "odict_keys(['0_RfR 0', '0_RfR 1', '0_RfR 2', '1_RfR 0', '1_RfR 1', '1_RfR 2', '2_RfR 0', '2_RfR 1', '2_RfR 2', '3_RfR 0', '3_RfR 1', '3_RfR 2', '4_RfR 0', '4_RfR 1', '4_RfR 2', 'EWS_DaysToThreat', 'A.1_DikeIncrease 0', 'A.1_DikeIncrease 1', 'A.1_DikeIncrease 2', 'A.2_DikeIncrease 0', 'A.2_DikeIncrease 1', 'A.2_DikeIncrease 2', 'A.3_DikeIncrease 0', 'A.3_DikeIncrease 1', 'A.3_DikeIncrease 2', 'A.4_DikeIncrease 0', 'A.4_DikeIncrease 1', 'A.4_DikeIncrease 2', 'A.5_DikeIncrease 0', 'A.5_DikeIncrease 1', 'A.5_DikeIncrease 2'])\n",
      "\n",
      "\n",
      "2\n",
      "odict_keys(['0_RfR 0', '0_RfR 1', '0_RfR 2', '1_RfR 0', '1_RfR 1', '1_RfR 2', '2_RfR 0', '2_RfR 1', '2_RfR 2', '3_RfR 0', '3_RfR 1', '3_RfR 2', '4_RfR 0', '4_RfR 1', '4_RfR 2', 'EWS_DaysToThreat', 'A.1_DikeIncrease 0', 'A.1_DikeIncrease 1', 'A.1_DikeIncrease 2', 'A.2_DikeIncrease 0', 'A.2_DikeIncrease 1', 'A.2_DikeIncrease 2', 'A.3_DikeIncrease 0', 'A.3_DikeIncrease 1', 'A.3_DikeIncrease 2', 'A.4_DikeIncrease 0', 'A.4_DikeIncrease 1', 'A.4_DikeIncrease 2', 'A.5_DikeIncrease 0', 'A.5_DikeIncrease 1', 'A.5_DikeIncrease 2'])\n",
      "\n",
      "\n",
      "3\n",
      "odict_keys(['0_RfR 0', '0_RfR 1', '0_RfR 2', '1_RfR 0', '1_RfR 1', '1_RfR 2', '2_RfR 0', '2_RfR 1', '2_RfR 2', '3_RfR 0', '3_RfR 1', '3_RfR 2', '4_RfR 0', '4_RfR 1', '4_RfR 2', 'EWS_DaysToThreat', 'A.1_DikeIncrease 0', 'A.1_DikeIncrease 1', 'A.1_DikeIncrease 2', 'A.2_DikeIncrease 0', 'A.2_DikeIncrease 1', 'A.2_DikeIncrease 2', 'A.3_DikeIncrease 0', 'A.3_DikeIncrease 1', 'A.3_DikeIncrease 2', 'A.4_DikeIncrease 0', 'A.4_DikeIncrease 1', 'A.4_DikeIncrease 2', 'A.5_DikeIncrease 0', 'A.5_DikeIncrease 1', 'A.5_DikeIncrease 2'])\n",
      "\n",
      "\n",
      "4\n",
      "odict_keys(['0_RfR 0', '0_RfR 1', '0_RfR 2', '1_RfR 0', '1_RfR 1', '1_RfR 2', '2_RfR 0', '2_RfR 1', '2_RfR 2', '3_RfR 0', '3_RfR 1', '3_RfR 2', '4_RfR 0', '4_RfR 1', '4_RfR 2', 'EWS_DaysToThreat', 'A.1_DikeIncrease 0', 'A.1_DikeIncrease 1', 'A.1_DikeIncrease 2', 'A.2_DikeIncrease 0', 'A.2_DikeIncrease 1', 'A.2_DikeIncrease 2', 'A.3_DikeIncrease 0', 'A.3_DikeIncrease 1', 'A.3_DikeIncrease 2', 'A.4_DikeIncrease 0', 'A.4_DikeIncrease 1', 'A.4_DikeIncrease 2', 'A.5_DikeIncrease 0', 'A.5_DikeIncrease 1', 'A.5_DikeIncrease 2'])\n",
      "\n",
      "\n",
      "5\n",
      "odict_keys(['0_RfR 0', '0_RfR 1', '0_RfR 2', '1_RfR 0', '1_RfR 1', '1_RfR 2', '2_RfR 0', '2_RfR 1', '2_RfR 2', '3_RfR 0', '3_RfR 1', '3_RfR 2', '4_RfR 0', '4_RfR 1', '4_RfR 2', 'EWS_DaysToThreat', 'A.1_DikeIncrease 0', 'A.1_DikeIncrease 1', 'A.1_DikeIncrease 2', 'A.2_DikeIncrease 0', 'A.2_DikeIncrease 1', 'A.2_DikeIncrease 2', 'A.3_DikeIncrease 0', 'A.3_DikeIncrease 1', 'A.3_DikeIncrease 2', 'A.4_DikeIncrease 0', 'A.4_DikeIncrease 1', 'A.4_DikeIncrease 2', 'A.5_DikeIncrease 0', 'A.5_DikeIncrease 1', 'A.5_DikeIncrease 2'])\n"
     ]
    }
   ],
   "source": [
    "print('Policy levers in the model per problem formulation')\n",
    "for i in range(6):\n",
    "    print('\\n')\n",
    "    print(i)\n",
    "    model, functions = get_model_for_problem_formulation(i)\n",
    "    print(model.levers._data.keys())\n",
    "    #print(model.outcomes._data)"
   ]
  },
  {
   "cell_type": "code",
   "execution_count": 36,
   "metadata": {},
   "outputs": [
    {
     "output_type": "stream",
     "name": "stdout",
     "text": [
      "Uncertainties in the model per problem formulation\n",
      "\n",
      "\n",
      "0\n",
      "odict_keys(['discount rate 0', 'discount rate 1', 'discount rate 2', 'A.0_ID flood wave shape', 'A.1_Bmax', 'A.1_pfail', 'A.1_Brate', 'A.2_Bmax', 'A.2_pfail', 'A.2_Brate', 'A.3_Bmax', 'A.3_pfail', 'A.3_Brate', 'A.4_Bmax', 'A.4_pfail', 'A.4_Brate', 'A.5_Bmax', 'A.5_pfail', 'A.5_Brate'])\n",
      "\n",
      "\n",
      "1\n",
      "odict_keys(['discount rate 0', 'discount rate 1', 'discount rate 2', 'A.0_ID flood wave shape', 'A.1_Bmax', 'A.1_pfail', 'A.1_Brate', 'A.2_Bmax', 'A.2_pfail', 'A.2_Brate', 'A.3_Bmax', 'A.3_pfail', 'A.3_Brate', 'A.4_Bmax', 'A.4_pfail', 'A.4_Brate', 'A.5_Bmax', 'A.5_pfail', 'A.5_Brate'])\n",
      "\n",
      "\n",
      "2\n",
      "odict_keys(['discount rate 0', 'discount rate 1', 'discount rate 2', 'A.0_ID flood wave shape', 'A.1_Bmax', 'A.1_pfail', 'A.1_Brate', 'A.2_Bmax', 'A.2_pfail', 'A.2_Brate', 'A.3_Bmax', 'A.3_pfail', 'A.3_Brate', 'A.4_Bmax', 'A.4_pfail', 'A.4_Brate', 'A.5_Bmax', 'A.5_pfail', 'A.5_Brate'])\n",
      "\n",
      "\n",
      "3\n",
      "odict_keys(['discount rate 0', 'discount rate 1', 'discount rate 2', 'A.0_ID flood wave shape', 'A.1_Bmax', 'A.1_pfail', 'A.1_Brate', 'A.2_Bmax', 'A.2_pfail', 'A.2_Brate', 'A.3_Bmax', 'A.3_pfail', 'A.3_Brate', 'A.4_Bmax', 'A.4_pfail', 'A.4_Brate', 'A.5_Bmax', 'A.5_pfail', 'A.5_Brate'])\n",
      "\n",
      "\n",
      "4\n",
      "odict_keys(['discount rate 0', 'discount rate 1', 'discount rate 2', 'A.0_ID flood wave shape', 'A.1_Bmax', 'A.1_pfail', 'A.1_Brate', 'A.2_Bmax', 'A.2_pfail', 'A.2_Brate', 'A.3_Bmax', 'A.3_pfail', 'A.3_Brate', 'A.4_Bmax', 'A.4_pfail', 'A.4_Brate', 'A.5_Bmax', 'A.5_pfail', 'A.5_Brate'])\n",
      "\n",
      "\n",
      "5\n",
      "odict_keys(['discount rate 0', 'discount rate 1', 'discount rate 2', 'A.0_ID flood wave shape', 'A.1_Bmax', 'A.1_pfail', 'A.1_Brate', 'A.2_Bmax', 'A.2_pfail', 'A.2_Brate', 'A.3_Bmax', 'A.3_pfail', 'A.3_Brate', 'A.4_Bmax', 'A.4_pfail', 'A.4_Brate', 'A.5_Bmax', 'A.5_pfail', 'A.5_Brate'])\n"
     ]
    }
   ],
   "source": [
    "print('Uncertainties in the model per problem formulation')\n",
    "for i in range(6):\n",
    "    print('\\n')\n",
    "    print(i)\n",
    "    model, functions = get_model_for_problem_formulation(i)\n",
    "    print(model.uncertainties._data.keys())\n",
    "    #print(model.outcomes._data)"
   ]
  },
  {
   "cell_type": "code",
   "execution_count": 31,
   "metadata": {},
   "outputs": [
    {
     "output_type": "error",
     "ename": "TypeError",
     "evalue": "unknownx identifier",
     "traceback": [
      "\u001b[1;31m---------------------------------------------------------------------------\u001b[0m",
      "\u001b[1;31mTypeError\u001b[0m                                 Traceback (most recent call last)",
      "\u001b[1;32m<ipython-input-31-ee70f6e82b6d>\u001b[0m in \u001b[0;36m<module>\u001b[1;34m\u001b[0m\n\u001b[1;32m----> 1\u001b[1;33m \u001b[0mmodel\u001b[0m\u001b[1;33m,\u001b[0m \u001b[0mfunctions\u001b[0m \u001b[1;33m=\u001b[0m \u001b[0mget_model_for_problem_formulation\u001b[0m\u001b[1;33m(\u001b[0m\u001b[1;36m7\u001b[0m\u001b[1;33m)\u001b[0m\u001b[1;33m\u001b[0m\u001b[1;33m\u001b[0m\u001b[0m\n\u001b[0m",
      "\u001b[1;32mc:\\Users\\bruno\\github\\EPA1361\\lab_sessions\\final assignment\\problem_formulation.py\u001b[0m in \u001b[0;36mget_model_for_problem_formulation\u001b[1;34m(problem_formulation_id)\u001b[0m\n\u001b[0;32m    266\u001b[0m \u001b[1;33m\u001b[0m\u001b[0m\n\u001b[0;32m    267\u001b[0m     \u001b[1;32melse\u001b[0m\u001b[1;33m:\u001b[0m\u001b[1;33m\u001b[0m\u001b[1;33m\u001b[0m\u001b[0m\n\u001b[1;32m--> 268\u001b[1;33m         \u001b[1;32mraise\u001b[0m \u001b[0mTypeError\u001b[0m\u001b[1;33m(\u001b[0m\u001b[1;34m'unknownx identifier'\u001b[0m\u001b[1;33m)\u001b[0m\u001b[1;33m\u001b[0m\u001b[1;33m\u001b[0m\u001b[0m\n\u001b[0m\u001b[0;32m    269\u001b[0m \u001b[1;33m\u001b[0m\u001b[0m\n\u001b[0;32m    270\u001b[0m     \u001b[1;32mreturn\u001b[0m \u001b[0mdike_model\u001b[0m\u001b[1;33m,\u001b[0m \u001b[0mfunction\u001b[0m\u001b[1;33m.\u001b[0m\u001b[0mplanning_steps\u001b[0m\u001b[1;33m\u001b[0m\u001b[1;33m\u001b[0m\u001b[0m\n",
      "\u001b[1;31mTypeError\u001b[0m: unknownx identifier"
     ]
    }
   ],
   "source": []
  },
  {
   "cell_type": "code",
   "execution_count": 22,
   "metadata": {},
   "outputs": [],
   "source": [
    "import pandas as pd\n",
    "projects = pd.read_excel('./data/rfr_strategies.xlsx',sheet_name='Olburgen') #, names=['project name', 0,1,2,3,4])"
   ]
  },
  {
   "cell_type": "code",
   "execution_count": 32,
   "metadata": {},
   "outputs": [
    {
     "output_type": "execute_result",
     "data": {
      "text/plain": [
       "                  0       1      2       3       4\n",
       "project name                                      \n",
       "A.1            0.19    0.17    NaN     NaN     NaN\n",
       "A.2             NaN     NaN   0.05    0.02     NaN\n",
       "A.3             NaN     NaN   0.11    0.04    0.01\n",
       "A.4             NaN     NaN    NaN    0.06    0.05\n",
       "A.5             NaN     NaN    NaN    0.12     NaN\n",
       "costs_1e6     84.60  217.80  30.70  121.20  256.10"
      ],
      "text/html": "<div>\n<style scoped>\n    .dataframe tbody tr th:only-of-type {\n        vertical-align: middle;\n    }\n\n    .dataframe tbody tr th {\n        vertical-align: top;\n    }\n\n    .dataframe thead th {\n        text-align: right;\n    }\n</style>\n<table border=\"1\" class=\"dataframe\">\n  <thead>\n    <tr style=\"text-align: right;\">\n      <th></th>\n      <th>0</th>\n      <th>1</th>\n      <th>2</th>\n      <th>3</th>\n      <th>4</th>\n    </tr>\n    <tr>\n      <th>project name</th>\n      <th></th>\n      <th></th>\n      <th></th>\n      <th></th>\n      <th></th>\n    </tr>\n  </thead>\n  <tbody>\n    <tr>\n      <th>A.1</th>\n      <td>0.19</td>\n      <td>0.17</td>\n      <td>NaN</td>\n      <td>NaN</td>\n      <td>NaN</td>\n    </tr>\n    <tr>\n      <th>A.2</th>\n      <td>NaN</td>\n      <td>NaN</td>\n      <td>0.05</td>\n      <td>0.02</td>\n      <td>NaN</td>\n    </tr>\n    <tr>\n      <th>A.3</th>\n      <td>NaN</td>\n      <td>NaN</td>\n      <td>0.11</td>\n      <td>0.04</td>\n      <td>0.01</td>\n    </tr>\n    <tr>\n      <th>A.4</th>\n      <td>NaN</td>\n      <td>NaN</td>\n      <td>NaN</td>\n      <td>0.06</td>\n      <td>0.05</td>\n    </tr>\n    <tr>\n      <th>A.5</th>\n      <td>NaN</td>\n      <td>NaN</td>\n      <td>NaN</td>\n      <td>0.12</td>\n      <td>NaN</td>\n    </tr>\n    <tr>\n      <th>costs_1e6</th>\n      <td>84.60</td>\n      <td>217.80</td>\n      <td>30.70</td>\n      <td>121.20</td>\n      <td>256.10</td>\n    </tr>\n  </tbody>\n</table>\n</div>"
     },
     "metadata": {},
     "execution_count": 32
    }
   ],
   "source": [
    "projects = pd.read_excel('./data/rfr_strategies.xlsx', index_col=0, usecols = [0,1,2,3,4,5], names=['project name', 0,1,2,3,4])\n",
    "projects"
   ]
  },
  {
   "cell_type": "code",
   "execution_count": null,
   "metadata": {},
   "outputs": [],
   "source": []
  }
 ]
}